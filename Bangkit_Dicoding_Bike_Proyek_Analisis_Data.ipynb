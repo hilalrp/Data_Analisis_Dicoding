{
  "cells": [
    {
      "cell_type": "markdown",
      "metadata": {
        "id": "H9wADwK78DCz"
      },
      "source": [
        "# Proyek Analisis Data: Bike Sharing Dataset\n",
        "- **Nama:** Hilal Rosyid Putra\n",
        "- **Email:** hilalrosyidputra@gmail.com\n",
        "- **ID Dicoding:** hilalrp"
      ]
    },
    {
      "cell_type": "markdown",
      "metadata": {
        "id": "eE0raob58DC0"
      },
      "source": [
        "## Menentukan Pertanyaan Bisnis"
      ]
    },
    {
      "cell_type": "markdown",
      "metadata": {
        "id": "GmQeQ5YF8DC0"
      },
      "source": [
        "- Bagaimana hubungan antara musim (season) dan jumlah sewa sepeda (cnt) harian? Musim mana yang menjadi peak-season sewa sepeda?\n",
        "- Bagaimana tren jumlah sewa sepeda (cnt) berdasarkan waktu, seperti bulan (mnth) atau jam (hr)?\n",
        "- Bagaimana hubungan cuaca (weathersit) terhadap jumlah sewa sepeda (cnt)?\n",
        "- Bagaimana cara meningkatkan jumlah sewa sepeda yang digunakan oleh pengguna casual pada weekdays?"
      ]
    },
    {
      "cell_type": "markdown",
      "metadata": {
        "id": "H-z4QGlO8DC1"
      },
      "source": [
        "## Import Semua Packages/Library yang Digunakan"
      ]
    },
    {
      "cell_type": "code",
      "execution_count": 55,
      "metadata": {},
      "outputs": [],
      "source": [
        "#%pip install seaborn"
      ]
    },
    {
      "cell_type": "code",
      "execution_count": 56,
      "metadata": {},
      "outputs": [],
      "source": [
        "#%pip install plotly"
      ]
    },
    {
      "cell_type": "code",
      "execution_count": 57,
      "metadata": {},
      "outputs": [],
      "source": [
        "#%pip install nbformat --upgrade\n"
      ]
    },
    {
      "cell_type": "code",
      "execution_count": 58,
      "metadata": {
        "id": "FVYwaObI8DC1"
      },
      "outputs": [],
      "source": [
        "import numpy as np\n",
        "import seaborn as sns\n",
        "import pandas as pd\n",
        "import matplotlib.pyplot as plt\n",
        "import plotly.express as px"
      ]
    },
    {
      "cell_type": "markdown",
      "metadata": {
        "id": "h_Sh51Xy8DC1"
      },
      "source": [
        "## Data Wrangling"
      ]
    },
    {
      "cell_type": "markdown",
      "metadata": {
        "id": "sXU2GBYu8DC1"
      },
      "source": [
        "### Gathering Data"
      ]
    },
    {
      "cell_type": "code",
      "execution_count": 59,
      "metadata": {
        "colab": {
          "base_uri": "https://localhost:8080/",
          "height": 206
        },
        "id": "6a9jwLQ8azQl",
        "outputId": "28ecd703-ba6a-4833-dd08-9883a442990d"
      },
      "outputs": [
        {
          "data": {
            "text/html": [
              "<div>\n",
              "<style scoped>\n",
              "    .dataframe tbody tr th:only-of-type {\n",
              "        vertical-align: middle;\n",
              "    }\n",
              "\n",
              "    .dataframe tbody tr th {\n",
              "        vertical-align: top;\n",
              "    }\n",
              "\n",
              "    .dataframe thead th {\n",
              "        text-align: right;\n",
              "    }\n",
              "</style>\n",
              "<table border=\"1\" class=\"dataframe\">\n",
              "  <thead>\n",
              "    <tr style=\"text-align: right;\">\n",
              "      <th></th>\n",
              "      <th>instant</th>\n",
              "      <th>dteday</th>\n",
              "      <th>season</th>\n",
              "      <th>yr</th>\n",
              "      <th>mnth</th>\n",
              "      <th>holiday</th>\n",
              "      <th>weekday</th>\n",
              "      <th>workingday</th>\n",
              "      <th>weathersit</th>\n",
              "      <th>temp</th>\n",
              "      <th>atemp</th>\n",
              "      <th>hum</th>\n",
              "      <th>windspeed</th>\n",
              "      <th>casual</th>\n",
              "      <th>registered</th>\n",
              "      <th>cnt</th>\n",
              "    </tr>\n",
              "  </thead>\n",
              "  <tbody>\n",
              "    <tr>\n",
              "      <th>0</th>\n",
              "      <td>1</td>\n",
              "      <td>2011-01-01</td>\n",
              "      <td>1</td>\n",
              "      <td>0</td>\n",
              "      <td>1</td>\n",
              "      <td>0</td>\n",
              "      <td>6</td>\n",
              "      <td>0</td>\n",
              "      <td>2</td>\n",
              "      <td>0.344167</td>\n",
              "      <td>0.363625</td>\n",
              "      <td>0.805833</td>\n",
              "      <td>0.160446</td>\n",
              "      <td>331</td>\n",
              "      <td>654</td>\n",
              "      <td>985</td>\n",
              "    </tr>\n",
              "    <tr>\n",
              "      <th>1</th>\n",
              "      <td>2</td>\n",
              "      <td>2011-01-02</td>\n",
              "      <td>1</td>\n",
              "      <td>0</td>\n",
              "      <td>1</td>\n",
              "      <td>0</td>\n",
              "      <td>0</td>\n",
              "      <td>0</td>\n",
              "      <td>2</td>\n",
              "      <td>0.363478</td>\n",
              "      <td>0.353739</td>\n",
              "      <td>0.696087</td>\n",
              "      <td>0.248539</td>\n",
              "      <td>131</td>\n",
              "      <td>670</td>\n",
              "      <td>801</td>\n",
              "    </tr>\n",
              "    <tr>\n",
              "      <th>2</th>\n",
              "      <td>3</td>\n",
              "      <td>2011-01-03</td>\n",
              "      <td>1</td>\n",
              "      <td>0</td>\n",
              "      <td>1</td>\n",
              "      <td>0</td>\n",
              "      <td>1</td>\n",
              "      <td>1</td>\n",
              "      <td>1</td>\n",
              "      <td>0.196364</td>\n",
              "      <td>0.189405</td>\n",
              "      <td>0.437273</td>\n",
              "      <td>0.248309</td>\n",
              "      <td>120</td>\n",
              "      <td>1229</td>\n",
              "      <td>1349</td>\n",
              "    </tr>\n",
              "    <tr>\n",
              "      <th>3</th>\n",
              "      <td>4</td>\n",
              "      <td>2011-01-04</td>\n",
              "      <td>1</td>\n",
              "      <td>0</td>\n",
              "      <td>1</td>\n",
              "      <td>0</td>\n",
              "      <td>2</td>\n",
              "      <td>1</td>\n",
              "      <td>1</td>\n",
              "      <td>0.200000</td>\n",
              "      <td>0.212122</td>\n",
              "      <td>0.590435</td>\n",
              "      <td>0.160296</td>\n",
              "      <td>108</td>\n",
              "      <td>1454</td>\n",
              "      <td>1562</td>\n",
              "    </tr>\n",
              "    <tr>\n",
              "      <th>4</th>\n",
              "      <td>5</td>\n",
              "      <td>2011-01-05</td>\n",
              "      <td>1</td>\n",
              "      <td>0</td>\n",
              "      <td>1</td>\n",
              "      <td>0</td>\n",
              "      <td>3</td>\n",
              "      <td>1</td>\n",
              "      <td>1</td>\n",
              "      <td>0.226957</td>\n",
              "      <td>0.229270</td>\n",
              "      <td>0.436957</td>\n",
              "      <td>0.186900</td>\n",
              "      <td>82</td>\n",
              "      <td>1518</td>\n",
              "      <td>1600</td>\n",
              "    </tr>\n",
              "  </tbody>\n",
              "</table>\n",
              "</div>"
            ],
            "text/plain": [
              "   instant      dteday  season  yr  mnth  holiday  weekday  workingday  \\\n",
              "0        1  2011-01-01       1   0     1        0        6           0   \n",
              "1        2  2011-01-02       1   0     1        0        0           0   \n",
              "2        3  2011-01-03       1   0     1        0        1           1   \n",
              "3        4  2011-01-04       1   0     1        0        2           1   \n",
              "4        5  2011-01-05       1   0     1        0        3           1   \n",
              "\n",
              "   weathersit      temp     atemp       hum  windspeed  casual  registered  \\\n",
              "0           2  0.344167  0.363625  0.805833   0.160446     331         654   \n",
              "1           2  0.363478  0.353739  0.696087   0.248539     131         670   \n",
              "2           1  0.196364  0.189405  0.437273   0.248309     120        1229   \n",
              "3           1  0.200000  0.212122  0.590435   0.160296     108        1454   \n",
              "4           1  0.226957  0.229270  0.436957   0.186900      82        1518   \n",
              "\n",
              "    cnt  \n",
              "0   985  \n",
              "1   801  \n",
              "2  1349  \n",
              "3  1562  \n",
              "4  1600  "
            ]
          },
          "execution_count": 59,
          "metadata": {},
          "output_type": "execute_result"
        }
      ],
      "source": [
        "day_df = pd.read_csv('D:/Downloads/Proyek_Analisis_Data/Bike-sharing-dataset/day.csv')\n",
        "day_df.head()"
      ]
    },
    {
      "cell_type": "code",
      "execution_count": 60,
      "metadata": {
        "colab": {
          "base_uri": "https://localhost:8080/",
          "height": 187
        },
        "id": "NGk_aLx-bkcJ",
        "outputId": "f14f1151-3f41-4568-fea6-9384c291d143"
      },
      "outputs": [
        {
          "data": {
            "text/html": [
              "<div>\n",
              "<style scoped>\n",
              "    .dataframe tbody tr th:only-of-type {\n",
              "        vertical-align: middle;\n",
              "    }\n",
              "\n",
              "    .dataframe tbody tr th {\n",
              "        vertical-align: top;\n",
              "    }\n",
              "\n",
              "    .dataframe thead th {\n",
              "        text-align: right;\n",
              "    }\n",
              "</style>\n",
              "<table border=\"1\" class=\"dataframe\">\n",
              "  <thead>\n",
              "    <tr style=\"text-align: right;\">\n",
              "      <th></th>\n",
              "      <th>instant</th>\n",
              "      <th>dteday</th>\n",
              "      <th>season</th>\n",
              "      <th>yr</th>\n",
              "      <th>mnth</th>\n",
              "      <th>hr</th>\n",
              "      <th>holiday</th>\n",
              "      <th>weekday</th>\n",
              "      <th>workingday</th>\n",
              "      <th>weathersit</th>\n",
              "      <th>temp</th>\n",
              "      <th>atemp</th>\n",
              "      <th>hum</th>\n",
              "      <th>windspeed</th>\n",
              "      <th>casual</th>\n",
              "      <th>registered</th>\n",
              "      <th>cnt</th>\n",
              "    </tr>\n",
              "  </thead>\n",
              "  <tbody>\n",
              "    <tr>\n",
              "      <th>0</th>\n",
              "      <td>1</td>\n",
              "      <td>2011-01-01</td>\n",
              "      <td>1</td>\n",
              "      <td>0</td>\n",
              "      <td>1</td>\n",
              "      <td>0</td>\n",
              "      <td>0</td>\n",
              "      <td>6</td>\n",
              "      <td>0</td>\n",
              "      <td>1</td>\n",
              "      <td>0.24</td>\n",
              "      <td>0.2879</td>\n",
              "      <td>0.81</td>\n",
              "      <td>0.0</td>\n",
              "      <td>3</td>\n",
              "      <td>13</td>\n",
              "      <td>16</td>\n",
              "    </tr>\n",
              "    <tr>\n",
              "      <th>1</th>\n",
              "      <td>2</td>\n",
              "      <td>2011-01-01</td>\n",
              "      <td>1</td>\n",
              "      <td>0</td>\n",
              "      <td>1</td>\n",
              "      <td>1</td>\n",
              "      <td>0</td>\n",
              "      <td>6</td>\n",
              "      <td>0</td>\n",
              "      <td>1</td>\n",
              "      <td>0.22</td>\n",
              "      <td>0.2727</td>\n",
              "      <td>0.80</td>\n",
              "      <td>0.0</td>\n",
              "      <td>8</td>\n",
              "      <td>32</td>\n",
              "      <td>40</td>\n",
              "    </tr>\n",
              "    <tr>\n",
              "      <th>2</th>\n",
              "      <td>3</td>\n",
              "      <td>2011-01-01</td>\n",
              "      <td>1</td>\n",
              "      <td>0</td>\n",
              "      <td>1</td>\n",
              "      <td>2</td>\n",
              "      <td>0</td>\n",
              "      <td>6</td>\n",
              "      <td>0</td>\n",
              "      <td>1</td>\n",
              "      <td>0.22</td>\n",
              "      <td>0.2727</td>\n",
              "      <td>0.80</td>\n",
              "      <td>0.0</td>\n",
              "      <td>5</td>\n",
              "      <td>27</td>\n",
              "      <td>32</td>\n",
              "    </tr>\n",
              "    <tr>\n",
              "      <th>3</th>\n",
              "      <td>4</td>\n",
              "      <td>2011-01-01</td>\n",
              "      <td>1</td>\n",
              "      <td>0</td>\n",
              "      <td>1</td>\n",
              "      <td>3</td>\n",
              "      <td>0</td>\n",
              "      <td>6</td>\n",
              "      <td>0</td>\n",
              "      <td>1</td>\n",
              "      <td>0.24</td>\n",
              "      <td>0.2879</td>\n",
              "      <td>0.75</td>\n",
              "      <td>0.0</td>\n",
              "      <td>3</td>\n",
              "      <td>10</td>\n",
              "      <td>13</td>\n",
              "    </tr>\n",
              "    <tr>\n",
              "      <th>4</th>\n",
              "      <td>5</td>\n",
              "      <td>2011-01-01</td>\n",
              "      <td>1</td>\n",
              "      <td>0</td>\n",
              "      <td>1</td>\n",
              "      <td>4</td>\n",
              "      <td>0</td>\n",
              "      <td>6</td>\n",
              "      <td>0</td>\n",
              "      <td>1</td>\n",
              "      <td>0.24</td>\n",
              "      <td>0.2879</td>\n",
              "      <td>0.75</td>\n",
              "      <td>0.0</td>\n",
              "      <td>0</td>\n",
              "      <td>1</td>\n",
              "      <td>1</td>\n",
              "    </tr>\n",
              "  </tbody>\n",
              "</table>\n",
              "</div>"
            ],
            "text/plain": [
              "   instant      dteday  season  yr  mnth  hr  holiday  weekday  workingday  \\\n",
              "0        1  2011-01-01       1   0     1   0        0        6           0   \n",
              "1        2  2011-01-01       1   0     1   1        0        6           0   \n",
              "2        3  2011-01-01       1   0     1   2        0        6           0   \n",
              "3        4  2011-01-01       1   0     1   3        0        6           0   \n",
              "4        5  2011-01-01       1   0     1   4        0        6           0   \n",
              "\n",
              "   weathersit  temp   atemp   hum  windspeed  casual  registered  cnt  \n",
              "0           1  0.24  0.2879  0.81        0.0       3          13   16  \n",
              "1           1  0.22  0.2727  0.80        0.0       8          32   40  \n",
              "2           1  0.22  0.2727  0.80        0.0       5          27   32  \n",
              "3           1  0.24  0.2879  0.75        0.0       3          10   13  \n",
              "4           1  0.24  0.2879  0.75        0.0       0           1    1  "
            ]
          },
          "execution_count": 60,
          "metadata": {},
          "output_type": "execute_result"
        }
      ],
      "source": [
        "hour_df = pd.read_csv('D:/Downloads/Proyek_Analisis_Data/Bike-sharing-dataset/hour.csv')\n",
        "hour_df.head()"
      ]
    },
    {
      "cell_type": "markdown",
      "metadata": {
        "id": "FHSiqaZp8DC1"
      },
      "source": [
        "### Assessing Data"
      ]
    },
    {
      "cell_type": "code",
      "execution_count": 61,
      "metadata": {
        "colab": {
          "base_uri": "https://localhost:8080/"
        },
        "id": "ax-3tEjc9Cj1",
        "outputId": "679b1de8-3382-4d06-da8a-bec6384feba4"
      },
      "outputs": [
        {
          "name": "stdout",
          "output_type": "stream",
          "text": [
            "Data type in Dataframe day:\n",
            "<class 'pandas.core.frame.DataFrame'>\n",
            "RangeIndex: 731 entries, 0 to 730\n",
            "Data columns (total 16 columns):\n",
            " #   Column      Non-Null Count  Dtype  \n",
            "---  ------      --------------  -----  \n",
            " 0   instant     731 non-null    int64  \n",
            " 1   dteday      731 non-null    object \n",
            " 2   season      731 non-null    int64  \n",
            " 3   yr          731 non-null    int64  \n",
            " 4   mnth        731 non-null    int64  \n",
            " 5   holiday     731 non-null    int64  \n",
            " 6   weekday     731 non-null    int64  \n",
            " 7   workingday  731 non-null    int64  \n",
            " 8   weathersit  731 non-null    int64  \n",
            " 9   temp        731 non-null    float64\n",
            " 10  atemp       731 non-null    float64\n",
            " 11  hum         731 non-null    float64\n",
            " 12  windspeed   731 non-null    float64\n",
            " 13  casual      731 non-null    int64  \n",
            " 14  registered  731 non-null    int64  \n",
            " 15  cnt         731 non-null    int64  \n",
            "dtypes: float64(4), int64(11), object(1)\n",
            "memory usage: 91.5+ KB\n",
            "None\n",
            "\n",
            "Data type in Dataframe hour:\n",
            "<class 'pandas.core.frame.DataFrame'>\n",
            "RangeIndex: 17379 entries, 0 to 17378\n",
            "Data columns (total 17 columns):\n",
            " #   Column      Non-Null Count  Dtype  \n",
            "---  ------      --------------  -----  \n",
            " 0   instant     17379 non-null  int64  \n",
            " 1   dteday      17379 non-null  object \n",
            " 2   season      17379 non-null  int64  \n",
            " 3   yr          17379 non-null  int64  \n",
            " 4   mnth        17379 non-null  int64  \n",
            " 5   hr          17379 non-null  int64  \n",
            " 6   holiday     17379 non-null  int64  \n",
            " 7   weekday     17379 non-null  int64  \n",
            " 8   workingday  17379 non-null  int64  \n",
            " 9   weathersit  17379 non-null  int64  \n",
            " 10  temp        17379 non-null  float64\n",
            " 11  atemp       17379 non-null  float64\n",
            " 12  hum         17379 non-null  float64\n",
            " 13  windspeed   17379 non-null  float64\n",
            " 14  casual      17379 non-null  int64  \n",
            " 15  registered  17379 non-null  int64  \n",
            " 16  cnt         17379 non-null  int64  \n",
            "dtypes: float64(4), int64(12), object(1)\n",
            "memory usage: 2.3+ MB\n",
            "None\n"
          ]
        }
      ],
      "source": [
        "print('Data type in Dataframe day:')\n",
        "print(day_df.info())\n",
        "\n",
        "print('\\nData type in Dataframe hour:')\n",
        "print(hour_df.info())"
      ]
    },
    {
      "cell_type": "code",
      "execution_count": 62,
      "metadata": {
        "colab": {
          "base_uri": "https://localhost:8080/"
        },
        "id": "138YQcgwc3Yw",
        "outputId": "82badb56-cf69-4b8c-f402-9c9ed00b9f4a"
      },
      "outputs": [
        {
          "name": "stdout",
          "output_type": "stream",
          "text": [
            "NULL value in Dataframe day:\n",
            "instant       0\n",
            "dteday        0\n",
            "season        0\n",
            "yr            0\n",
            "mnth          0\n",
            "holiday       0\n",
            "weekday       0\n",
            "workingday    0\n",
            "weathersit    0\n",
            "temp          0\n",
            "atemp         0\n",
            "hum           0\n",
            "windspeed     0\n",
            "casual        0\n",
            "registered    0\n",
            "cnt           0\n",
            "dtype: int64\n",
            "\n",
            "NULL value in Dataframe hour:\n",
            "instant       0\n",
            "dteday        0\n",
            "season        0\n",
            "yr            0\n",
            "mnth          0\n",
            "hr            0\n",
            "holiday       0\n",
            "weekday       0\n",
            "workingday    0\n",
            "weathersit    0\n",
            "temp          0\n",
            "atemp         0\n",
            "hum           0\n",
            "windspeed     0\n",
            "casual        0\n",
            "registered    0\n",
            "cnt           0\n",
            "dtype: int64\n"
          ]
        }
      ],
      "source": [
        "print('NULL value in Dataframe day:')\n",
        "print(day_df.isnull().sum())\n",
        "\n",
        "print('\\nNULL value in Dataframe hour:')\n",
        "print(hour_df.isnull().sum())"
      ]
    },
    {
      "cell_type": "code",
      "execution_count": 63,
      "metadata": {
        "colab": {
          "base_uri": "https://localhost:8080/"
        },
        "id": "Hu5KKLTJfbBZ",
        "outputId": "1b7e9a07-a8b6-417f-f062-cfa7efabea8d"
      },
      "outputs": [
        {
          "name": "stdout",
          "output_type": "stream",
          "text": [
            "Duplicate value in Dataframe day: 0\n",
            "Duplicate value in Dataframe hour: 0\n"
          ]
        }
      ],
      "source": [
        "print('Duplicate value in Dataframe day:', day_df.duplicated().sum())\n",
        "print('Duplicate value in Dataframe hour:', hour_df.duplicated().sum())"
      ]
    },
    {
      "cell_type": "code",
      "execution_count": 64,
      "metadata": {
        "colab": {
          "base_uri": "https://localhost:8080/",
          "height": 394
        },
        "id": "tI3hi3lJfpkA",
        "outputId": "643c4f00-899d-40d2-f11b-e9ad5dfa0028"
      },
      "outputs": [
        {
          "data": {
            "text/html": [
              "<div>\n",
              "<style scoped>\n",
              "    .dataframe tbody tr th:only-of-type {\n",
              "        vertical-align: middle;\n",
              "    }\n",
              "\n",
              "    .dataframe tbody tr th {\n",
              "        vertical-align: top;\n",
              "    }\n",
              "\n",
              "    .dataframe thead th {\n",
              "        text-align: right;\n",
              "    }\n",
              "</style>\n",
              "<table border=\"1\" class=\"dataframe\">\n",
              "  <thead>\n",
              "    <tr style=\"text-align: right;\">\n",
              "      <th></th>\n",
              "      <th>instant</th>\n",
              "      <th>dteday</th>\n",
              "      <th>season</th>\n",
              "      <th>yr</th>\n",
              "      <th>mnth</th>\n",
              "      <th>holiday</th>\n",
              "      <th>weekday</th>\n",
              "      <th>workingday</th>\n",
              "      <th>weathersit</th>\n",
              "      <th>temp</th>\n",
              "      <th>atemp</th>\n",
              "      <th>hum</th>\n",
              "      <th>windspeed</th>\n",
              "      <th>casual</th>\n",
              "      <th>registered</th>\n",
              "      <th>cnt</th>\n",
              "    </tr>\n",
              "  </thead>\n",
              "  <tbody>\n",
              "    <tr>\n",
              "      <th>count</th>\n",
              "      <td>731.000000</td>\n",
              "      <td>731</td>\n",
              "      <td>731.000000</td>\n",
              "      <td>731.000000</td>\n",
              "      <td>731.000000</td>\n",
              "      <td>731.000000</td>\n",
              "      <td>731.000000</td>\n",
              "      <td>731.000000</td>\n",
              "      <td>731.000000</td>\n",
              "      <td>731.000000</td>\n",
              "      <td>731.000000</td>\n",
              "      <td>731.000000</td>\n",
              "      <td>731.000000</td>\n",
              "      <td>731.000000</td>\n",
              "      <td>731.000000</td>\n",
              "      <td>731.000000</td>\n",
              "    </tr>\n",
              "    <tr>\n",
              "      <th>unique</th>\n",
              "      <td>NaN</td>\n",
              "      <td>731</td>\n",
              "      <td>NaN</td>\n",
              "      <td>NaN</td>\n",
              "      <td>NaN</td>\n",
              "      <td>NaN</td>\n",
              "      <td>NaN</td>\n",
              "      <td>NaN</td>\n",
              "      <td>NaN</td>\n",
              "      <td>NaN</td>\n",
              "      <td>NaN</td>\n",
              "      <td>NaN</td>\n",
              "      <td>NaN</td>\n",
              "      <td>NaN</td>\n",
              "      <td>NaN</td>\n",
              "      <td>NaN</td>\n",
              "    </tr>\n",
              "    <tr>\n",
              "      <th>top</th>\n",
              "      <td>NaN</td>\n",
              "      <td>2011-01-01</td>\n",
              "      <td>NaN</td>\n",
              "      <td>NaN</td>\n",
              "      <td>NaN</td>\n",
              "      <td>NaN</td>\n",
              "      <td>NaN</td>\n",
              "      <td>NaN</td>\n",
              "      <td>NaN</td>\n",
              "      <td>NaN</td>\n",
              "      <td>NaN</td>\n",
              "      <td>NaN</td>\n",
              "      <td>NaN</td>\n",
              "      <td>NaN</td>\n",
              "      <td>NaN</td>\n",
              "      <td>NaN</td>\n",
              "    </tr>\n",
              "    <tr>\n",
              "      <th>freq</th>\n",
              "      <td>NaN</td>\n",
              "      <td>1</td>\n",
              "      <td>NaN</td>\n",
              "      <td>NaN</td>\n",
              "      <td>NaN</td>\n",
              "      <td>NaN</td>\n",
              "      <td>NaN</td>\n",
              "      <td>NaN</td>\n",
              "      <td>NaN</td>\n",
              "      <td>NaN</td>\n",
              "      <td>NaN</td>\n",
              "      <td>NaN</td>\n",
              "      <td>NaN</td>\n",
              "      <td>NaN</td>\n",
              "      <td>NaN</td>\n",
              "      <td>NaN</td>\n",
              "    </tr>\n",
              "    <tr>\n",
              "      <th>mean</th>\n",
              "      <td>366.000000</td>\n",
              "      <td>NaN</td>\n",
              "      <td>2.496580</td>\n",
              "      <td>0.500684</td>\n",
              "      <td>6.519836</td>\n",
              "      <td>0.028728</td>\n",
              "      <td>2.997264</td>\n",
              "      <td>0.683995</td>\n",
              "      <td>1.395349</td>\n",
              "      <td>0.495385</td>\n",
              "      <td>0.474354</td>\n",
              "      <td>0.627894</td>\n",
              "      <td>0.190486</td>\n",
              "      <td>848.176471</td>\n",
              "      <td>3656.172367</td>\n",
              "      <td>4504.348837</td>\n",
              "    </tr>\n",
              "    <tr>\n",
              "      <th>std</th>\n",
              "      <td>211.165812</td>\n",
              "      <td>NaN</td>\n",
              "      <td>1.110807</td>\n",
              "      <td>0.500342</td>\n",
              "      <td>3.451913</td>\n",
              "      <td>0.167155</td>\n",
              "      <td>2.004787</td>\n",
              "      <td>0.465233</td>\n",
              "      <td>0.544894</td>\n",
              "      <td>0.183051</td>\n",
              "      <td>0.162961</td>\n",
              "      <td>0.142429</td>\n",
              "      <td>0.077498</td>\n",
              "      <td>686.622488</td>\n",
              "      <td>1560.256377</td>\n",
              "      <td>1937.211452</td>\n",
              "    </tr>\n",
              "    <tr>\n",
              "      <th>min</th>\n",
              "      <td>1.000000</td>\n",
              "      <td>NaN</td>\n",
              "      <td>1.000000</td>\n",
              "      <td>0.000000</td>\n",
              "      <td>1.000000</td>\n",
              "      <td>0.000000</td>\n",
              "      <td>0.000000</td>\n",
              "      <td>0.000000</td>\n",
              "      <td>1.000000</td>\n",
              "      <td>0.059130</td>\n",
              "      <td>0.079070</td>\n",
              "      <td>0.000000</td>\n",
              "      <td>0.022392</td>\n",
              "      <td>2.000000</td>\n",
              "      <td>20.000000</td>\n",
              "      <td>22.000000</td>\n",
              "    </tr>\n",
              "    <tr>\n",
              "      <th>25%</th>\n",
              "      <td>183.500000</td>\n",
              "      <td>NaN</td>\n",
              "      <td>2.000000</td>\n",
              "      <td>0.000000</td>\n",
              "      <td>4.000000</td>\n",
              "      <td>0.000000</td>\n",
              "      <td>1.000000</td>\n",
              "      <td>0.000000</td>\n",
              "      <td>1.000000</td>\n",
              "      <td>0.337083</td>\n",
              "      <td>0.337842</td>\n",
              "      <td>0.520000</td>\n",
              "      <td>0.134950</td>\n",
              "      <td>315.500000</td>\n",
              "      <td>2497.000000</td>\n",
              "      <td>3152.000000</td>\n",
              "    </tr>\n",
              "    <tr>\n",
              "      <th>50%</th>\n",
              "      <td>366.000000</td>\n",
              "      <td>NaN</td>\n",
              "      <td>3.000000</td>\n",
              "      <td>1.000000</td>\n",
              "      <td>7.000000</td>\n",
              "      <td>0.000000</td>\n",
              "      <td>3.000000</td>\n",
              "      <td>1.000000</td>\n",
              "      <td>1.000000</td>\n",
              "      <td>0.498333</td>\n",
              "      <td>0.486733</td>\n",
              "      <td>0.626667</td>\n",
              "      <td>0.180975</td>\n",
              "      <td>713.000000</td>\n",
              "      <td>3662.000000</td>\n",
              "      <td>4548.000000</td>\n",
              "    </tr>\n",
              "    <tr>\n",
              "      <th>75%</th>\n",
              "      <td>548.500000</td>\n",
              "      <td>NaN</td>\n",
              "      <td>3.000000</td>\n",
              "      <td>1.000000</td>\n",
              "      <td>10.000000</td>\n",
              "      <td>0.000000</td>\n",
              "      <td>5.000000</td>\n",
              "      <td>1.000000</td>\n",
              "      <td>2.000000</td>\n",
              "      <td>0.655417</td>\n",
              "      <td>0.608602</td>\n",
              "      <td>0.730209</td>\n",
              "      <td>0.233214</td>\n",
              "      <td>1096.000000</td>\n",
              "      <td>4776.500000</td>\n",
              "      <td>5956.000000</td>\n",
              "    </tr>\n",
              "    <tr>\n",
              "      <th>max</th>\n",
              "      <td>731.000000</td>\n",
              "      <td>NaN</td>\n",
              "      <td>4.000000</td>\n",
              "      <td>1.000000</td>\n",
              "      <td>12.000000</td>\n",
              "      <td>1.000000</td>\n",
              "      <td>6.000000</td>\n",
              "      <td>1.000000</td>\n",
              "      <td>3.000000</td>\n",
              "      <td>0.861667</td>\n",
              "      <td>0.840896</td>\n",
              "      <td>0.972500</td>\n",
              "      <td>0.507463</td>\n",
              "      <td>3410.000000</td>\n",
              "      <td>6946.000000</td>\n",
              "      <td>8714.000000</td>\n",
              "    </tr>\n",
              "  </tbody>\n",
              "</table>\n",
              "</div>"
            ],
            "text/plain": [
              "           instant      dteday      season          yr        mnth  \\\n",
              "count   731.000000         731  731.000000  731.000000  731.000000   \n",
              "unique         NaN         731         NaN         NaN         NaN   \n",
              "top            NaN  2011-01-01         NaN         NaN         NaN   \n",
              "freq           NaN           1         NaN         NaN         NaN   \n",
              "mean    366.000000         NaN    2.496580    0.500684    6.519836   \n",
              "std     211.165812         NaN    1.110807    0.500342    3.451913   \n",
              "min       1.000000         NaN    1.000000    0.000000    1.000000   \n",
              "25%     183.500000         NaN    2.000000    0.000000    4.000000   \n",
              "50%     366.000000         NaN    3.000000    1.000000    7.000000   \n",
              "75%     548.500000         NaN    3.000000    1.000000   10.000000   \n",
              "max     731.000000         NaN    4.000000    1.000000   12.000000   \n",
              "\n",
              "           holiday     weekday  workingday  weathersit        temp  \\\n",
              "count   731.000000  731.000000  731.000000  731.000000  731.000000   \n",
              "unique         NaN         NaN         NaN         NaN         NaN   \n",
              "top            NaN         NaN         NaN         NaN         NaN   \n",
              "freq           NaN         NaN         NaN         NaN         NaN   \n",
              "mean      0.028728    2.997264    0.683995    1.395349    0.495385   \n",
              "std       0.167155    2.004787    0.465233    0.544894    0.183051   \n",
              "min       0.000000    0.000000    0.000000    1.000000    0.059130   \n",
              "25%       0.000000    1.000000    0.000000    1.000000    0.337083   \n",
              "50%       0.000000    3.000000    1.000000    1.000000    0.498333   \n",
              "75%       0.000000    5.000000    1.000000    2.000000    0.655417   \n",
              "max       1.000000    6.000000    1.000000    3.000000    0.861667   \n",
              "\n",
              "             atemp         hum   windspeed       casual   registered  \\\n",
              "count   731.000000  731.000000  731.000000   731.000000   731.000000   \n",
              "unique         NaN         NaN         NaN          NaN          NaN   \n",
              "top            NaN         NaN         NaN          NaN          NaN   \n",
              "freq           NaN         NaN         NaN          NaN          NaN   \n",
              "mean      0.474354    0.627894    0.190486   848.176471  3656.172367   \n",
              "std       0.162961    0.142429    0.077498   686.622488  1560.256377   \n",
              "min       0.079070    0.000000    0.022392     2.000000    20.000000   \n",
              "25%       0.337842    0.520000    0.134950   315.500000  2497.000000   \n",
              "50%       0.486733    0.626667    0.180975   713.000000  3662.000000   \n",
              "75%       0.608602    0.730209    0.233214  1096.000000  4776.500000   \n",
              "max       0.840896    0.972500    0.507463  3410.000000  6946.000000   \n",
              "\n",
              "                cnt  \n",
              "count    731.000000  \n",
              "unique          NaN  \n",
              "top             NaN  \n",
              "freq            NaN  \n",
              "mean    4504.348837  \n",
              "std     1937.211452  \n",
              "min       22.000000  \n",
              "25%     3152.000000  \n",
              "50%     4548.000000  \n",
              "75%     5956.000000  \n",
              "max     8714.000000  "
            ]
          },
          "execution_count": 64,
          "metadata": {},
          "output_type": "execute_result"
        }
      ],
      "source": [
        "day_df.describe(include='all')"
      ]
    },
    {
      "cell_type": "code",
      "execution_count": 65,
      "metadata": {
        "colab": {
          "base_uri": "https://localhost:8080/",
          "height": 432
        },
        "id": "CbmhH8o8f5de",
        "outputId": "9247dee6-db13-4ef7-f466-b5c1233b5ec4"
      },
      "outputs": [
        {
          "data": {
            "text/html": [
              "<div>\n",
              "<style scoped>\n",
              "    .dataframe tbody tr th:only-of-type {\n",
              "        vertical-align: middle;\n",
              "    }\n",
              "\n",
              "    .dataframe tbody tr th {\n",
              "        vertical-align: top;\n",
              "    }\n",
              "\n",
              "    .dataframe thead th {\n",
              "        text-align: right;\n",
              "    }\n",
              "</style>\n",
              "<table border=\"1\" class=\"dataframe\">\n",
              "  <thead>\n",
              "    <tr style=\"text-align: right;\">\n",
              "      <th></th>\n",
              "      <th>instant</th>\n",
              "      <th>dteday</th>\n",
              "      <th>season</th>\n",
              "      <th>yr</th>\n",
              "      <th>mnth</th>\n",
              "      <th>hr</th>\n",
              "      <th>holiday</th>\n",
              "      <th>weekday</th>\n",
              "      <th>workingday</th>\n",
              "      <th>weathersit</th>\n",
              "      <th>temp</th>\n",
              "      <th>atemp</th>\n",
              "      <th>hum</th>\n",
              "      <th>windspeed</th>\n",
              "      <th>casual</th>\n",
              "      <th>registered</th>\n",
              "      <th>cnt</th>\n",
              "    </tr>\n",
              "  </thead>\n",
              "  <tbody>\n",
              "    <tr>\n",
              "      <th>count</th>\n",
              "      <td>17379.0000</td>\n",
              "      <td>17379</td>\n",
              "      <td>17379.000000</td>\n",
              "      <td>17379.000000</td>\n",
              "      <td>17379.000000</td>\n",
              "      <td>17379.000000</td>\n",
              "      <td>17379.000000</td>\n",
              "      <td>17379.000000</td>\n",
              "      <td>17379.000000</td>\n",
              "      <td>17379.000000</td>\n",
              "      <td>17379.000000</td>\n",
              "      <td>17379.000000</td>\n",
              "      <td>17379.000000</td>\n",
              "      <td>17379.000000</td>\n",
              "      <td>17379.000000</td>\n",
              "      <td>17379.000000</td>\n",
              "      <td>17379.000000</td>\n",
              "    </tr>\n",
              "    <tr>\n",
              "      <th>unique</th>\n",
              "      <td>NaN</td>\n",
              "      <td>731</td>\n",
              "      <td>NaN</td>\n",
              "      <td>NaN</td>\n",
              "      <td>NaN</td>\n",
              "      <td>NaN</td>\n",
              "      <td>NaN</td>\n",
              "      <td>NaN</td>\n",
              "      <td>NaN</td>\n",
              "      <td>NaN</td>\n",
              "      <td>NaN</td>\n",
              "      <td>NaN</td>\n",
              "      <td>NaN</td>\n",
              "      <td>NaN</td>\n",
              "      <td>NaN</td>\n",
              "      <td>NaN</td>\n",
              "      <td>NaN</td>\n",
              "    </tr>\n",
              "    <tr>\n",
              "      <th>top</th>\n",
              "      <td>NaN</td>\n",
              "      <td>2011-01-01</td>\n",
              "      <td>NaN</td>\n",
              "      <td>NaN</td>\n",
              "      <td>NaN</td>\n",
              "      <td>NaN</td>\n",
              "      <td>NaN</td>\n",
              "      <td>NaN</td>\n",
              "      <td>NaN</td>\n",
              "      <td>NaN</td>\n",
              "      <td>NaN</td>\n",
              "      <td>NaN</td>\n",
              "      <td>NaN</td>\n",
              "      <td>NaN</td>\n",
              "      <td>NaN</td>\n",
              "      <td>NaN</td>\n",
              "      <td>NaN</td>\n",
              "    </tr>\n",
              "    <tr>\n",
              "      <th>freq</th>\n",
              "      <td>NaN</td>\n",
              "      <td>24</td>\n",
              "      <td>NaN</td>\n",
              "      <td>NaN</td>\n",
              "      <td>NaN</td>\n",
              "      <td>NaN</td>\n",
              "      <td>NaN</td>\n",
              "      <td>NaN</td>\n",
              "      <td>NaN</td>\n",
              "      <td>NaN</td>\n",
              "      <td>NaN</td>\n",
              "      <td>NaN</td>\n",
              "      <td>NaN</td>\n",
              "      <td>NaN</td>\n",
              "      <td>NaN</td>\n",
              "      <td>NaN</td>\n",
              "      <td>NaN</td>\n",
              "    </tr>\n",
              "    <tr>\n",
              "      <th>mean</th>\n",
              "      <td>8690.0000</td>\n",
              "      <td>NaN</td>\n",
              "      <td>2.501640</td>\n",
              "      <td>0.502561</td>\n",
              "      <td>6.537775</td>\n",
              "      <td>11.546752</td>\n",
              "      <td>0.028770</td>\n",
              "      <td>3.003683</td>\n",
              "      <td>0.682721</td>\n",
              "      <td>1.425283</td>\n",
              "      <td>0.496987</td>\n",
              "      <td>0.475775</td>\n",
              "      <td>0.627229</td>\n",
              "      <td>0.190098</td>\n",
              "      <td>35.676218</td>\n",
              "      <td>153.786869</td>\n",
              "      <td>189.463088</td>\n",
              "    </tr>\n",
              "    <tr>\n",
              "      <th>std</th>\n",
              "      <td>5017.0295</td>\n",
              "      <td>NaN</td>\n",
              "      <td>1.106918</td>\n",
              "      <td>0.500008</td>\n",
              "      <td>3.438776</td>\n",
              "      <td>6.914405</td>\n",
              "      <td>0.167165</td>\n",
              "      <td>2.005771</td>\n",
              "      <td>0.465431</td>\n",
              "      <td>0.639357</td>\n",
              "      <td>0.192556</td>\n",
              "      <td>0.171850</td>\n",
              "      <td>0.192930</td>\n",
              "      <td>0.122340</td>\n",
              "      <td>49.305030</td>\n",
              "      <td>151.357286</td>\n",
              "      <td>181.387599</td>\n",
              "    </tr>\n",
              "    <tr>\n",
              "      <th>min</th>\n",
              "      <td>1.0000</td>\n",
              "      <td>NaN</td>\n",
              "      <td>1.000000</td>\n",
              "      <td>0.000000</td>\n",
              "      <td>1.000000</td>\n",
              "      <td>0.000000</td>\n",
              "      <td>0.000000</td>\n",
              "      <td>0.000000</td>\n",
              "      <td>0.000000</td>\n",
              "      <td>1.000000</td>\n",
              "      <td>0.020000</td>\n",
              "      <td>0.000000</td>\n",
              "      <td>0.000000</td>\n",
              "      <td>0.000000</td>\n",
              "      <td>0.000000</td>\n",
              "      <td>0.000000</td>\n",
              "      <td>1.000000</td>\n",
              "    </tr>\n",
              "    <tr>\n",
              "      <th>25%</th>\n",
              "      <td>4345.5000</td>\n",
              "      <td>NaN</td>\n",
              "      <td>2.000000</td>\n",
              "      <td>0.000000</td>\n",
              "      <td>4.000000</td>\n",
              "      <td>6.000000</td>\n",
              "      <td>0.000000</td>\n",
              "      <td>1.000000</td>\n",
              "      <td>0.000000</td>\n",
              "      <td>1.000000</td>\n",
              "      <td>0.340000</td>\n",
              "      <td>0.333300</td>\n",
              "      <td>0.480000</td>\n",
              "      <td>0.104500</td>\n",
              "      <td>4.000000</td>\n",
              "      <td>34.000000</td>\n",
              "      <td>40.000000</td>\n",
              "    </tr>\n",
              "    <tr>\n",
              "      <th>50%</th>\n",
              "      <td>8690.0000</td>\n",
              "      <td>NaN</td>\n",
              "      <td>3.000000</td>\n",
              "      <td>1.000000</td>\n",
              "      <td>7.000000</td>\n",
              "      <td>12.000000</td>\n",
              "      <td>0.000000</td>\n",
              "      <td>3.000000</td>\n",
              "      <td>1.000000</td>\n",
              "      <td>1.000000</td>\n",
              "      <td>0.500000</td>\n",
              "      <td>0.484800</td>\n",
              "      <td>0.630000</td>\n",
              "      <td>0.194000</td>\n",
              "      <td>17.000000</td>\n",
              "      <td>115.000000</td>\n",
              "      <td>142.000000</td>\n",
              "    </tr>\n",
              "    <tr>\n",
              "      <th>75%</th>\n",
              "      <td>13034.5000</td>\n",
              "      <td>NaN</td>\n",
              "      <td>3.000000</td>\n",
              "      <td>1.000000</td>\n",
              "      <td>10.000000</td>\n",
              "      <td>18.000000</td>\n",
              "      <td>0.000000</td>\n",
              "      <td>5.000000</td>\n",
              "      <td>1.000000</td>\n",
              "      <td>2.000000</td>\n",
              "      <td>0.660000</td>\n",
              "      <td>0.621200</td>\n",
              "      <td>0.780000</td>\n",
              "      <td>0.253700</td>\n",
              "      <td>48.000000</td>\n",
              "      <td>220.000000</td>\n",
              "      <td>281.000000</td>\n",
              "    </tr>\n",
              "    <tr>\n",
              "      <th>max</th>\n",
              "      <td>17379.0000</td>\n",
              "      <td>NaN</td>\n",
              "      <td>4.000000</td>\n",
              "      <td>1.000000</td>\n",
              "      <td>12.000000</td>\n",
              "      <td>23.000000</td>\n",
              "      <td>1.000000</td>\n",
              "      <td>6.000000</td>\n",
              "      <td>1.000000</td>\n",
              "      <td>4.000000</td>\n",
              "      <td>1.000000</td>\n",
              "      <td>1.000000</td>\n",
              "      <td>1.000000</td>\n",
              "      <td>0.850700</td>\n",
              "      <td>367.000000</td>\n",
              "      <td>886.000000</td>\n",
              "      <td>977.000000</td>\n",
              "    </tr>\n",
              "  </tbody>\n",
              "</table>\n",
              "</div>"
            ],
            "text/plain": [
              "           instant      dteday        season            yr          mnth  \\\n",
              "count   17379.0000       17379  17379.000000  17379.000000  17379.000000   \n",
              "unique         NaN         731           NaN           NaN           NaN   \n",
              "top            NaN  2011-01-01           NaN           NaN           NaN   \n",
              "freq           NaN          24           NaN           NaN           NaN   \n",
              "mean     8690.0000         NaN      2.501640      0.502561      6.537775   \n",
              "std      5017.0295         NaN      1.106918      0.500008      3.438776   \n",
              "min         1.0000         NaN      1.000000      0.000000      1.000000   \n",
              "25%      4345.5000         NaN      2.000000      0.000000      4.000000   \n",
              "50%      8690.0000         NaN      3.000000      1.000000      7.000000   \n",
              "75%     13034.5000         NaN      3.000000      1.000000     10.000000   \n",
              "max     17379.0000         NaN      4.000000      1.000000     12.000000   \n",
              "\n",
              "                  hr       holiday       weekday    workingday    weathersit  \\\n",
              "count   17379.000000  17379.000000  17379.000000  17379.000000  17379.000000   \n",
              "unique           NaN           NaN           NaN           NaN           NaN   \n",
              "top              NaN           NaN           NaN           NaN           NaN   \n",
              "freq             NaN           NaN           NaN           NaN           NaN   \n",
              "mean       11.546752      0.028770      3.003683      0.682721      1.425283   \n",
              "std         6.914405      0.167165      2.005771      0.465431      0.639357   \n",
              "min         0.000000      0.000000      0.000000      0.000000      1.000000   \n",
              "25%         6.000000      0.000000      1.000000      0.000000      1.000000   \n",
              "50%        12.000000      0.000000      3.000000      1.000000      1.000000   \n",
              "75%        18.000000      0.000000      5.000000      1.000000      2.000000   \n",
              "max        23.000000      1.000000      6.000000      1.000000      4.000000   \n",
              "\n",
              "                temp         atemp           hum     windspeed        casual  \\\n",
              "count   17379.000000  17379.000000  17379.000000  17379.000000  17379.000000   \n",
              "unique           NaN           NaN           NaN           NaN           NaN   \n",
              "top              NaN           NaN           NaN           NaN           NaN   \n",
              "freq             NaN           NaN           NaN           NaN           NaN   \n",
              "mean        0.496987      0.475775      0.627229      0.190098     35.676218   \n",
              "std         0.192556      0.171850      0.192930      0.122340     49.305030   \n",
              "min         0.020000      0.000000      0.000000      0.000000      0.000000   \n",
              "25%         0.340000      0.333300      0.480000      0.104500      4.000000   \n",
              "50%         0.500000      0.484800      0.630000      0.194000     17.000000   \n",
              "75%         0.660000      0.621200      0.780000      0.253700     48.000000   \n",
              "max         1.000000      1.000000      1.000000      0.850700    367.000000   \n",
              "\n",
              "          registered           cnt  \n",
              "count   17379.000000  17379.000000  \n",
              "unique           NaN           NaN  \n",
              "top              NaN           NaN  \n",
              "freq             NaN           NaN  \n",
              "mean      153.786869    189.463088  \n",
              "std       151.357286    181.387599  \n",
              "min         0.000000      1.000000  \n",
              "25%        34.000000     40.000000  \n",
              "50%       115.000000    142.000000  \n",
              "75%       220.000000    281.000000  \n",
              "max       886.000000    977.000000  "
            ]
          },
          "execution_count": 65,
          "metadata": {},
          "output_type": "execute_result"
        }
      ],
      "source": [
        "hour_df.describe(include='all')"
      ]
    },
    {
      "cell_type": "markdown",
      "metadata": {
        "id": "EhN5R4hr8DC1"
      },
      "source": [
        "### Cleaning Data"
      ]
    },
    {
      "cell_type": "code",
      "execution_count": 66,
      "metadata": {
        "colab": {
          "base_uri": "https://localhost:8080/"
        },
        "id": "jVnYpprE9Evz",
        "outputId": "a0456c00-95d3-431d-eed8-0b2aa27b810d"
      },
      "outputs": [
        {
          "name": "stdout",
          "output_type": "stream",
          "text": [
            "data type of day_df[\"dteday\"] :  datetime64[ns]\n",
            "data type of hour_df[\"dteday\"] :  datetime64[ns]\n"
          ]
        }
      ],
      "source": [
        "# mengubah tipe data dteday dari int menjadi datetime\n",
        "day_df[\"dteday\"] = pd.to_datetime(day_df[\"dteday\"])\n",
        "hour_df[\"dteday\"] = pd.to_datetime(hour_df[\"dteday\"])\n",
        "\n",
        "print('data type of day_df[\"dteday\"] : ', day_df[\"dteday\"].dtypes)\n",
        "print('data type of hour_df[\"dteday\"] : ', hour_df[\"dteday\"].dtypes)"
      ]
    },
    {
      "cell_type": "markdown",
      "metadata": {
        "id": "gp-Y6wU38DC1"
      },
      "source": [
        "# Exploratory Data Analysis (EDA)"
      ]
    },
    {
      "cell_type": "markdown",
      "metadata": {
        "id": "MW7WF2kr8DC1"
      },
      "source": [
        "### Explore number of unique values for each DataFrame"
      ]
    },
    {
      "cell_type": "code",
      "execution_count": 67,
      "metadata": {
        "colab": {
          "base_uri": "https://localhost:8080/"
        },
        "id": "2pquds-whpHU",
        "outputId": "234cce72-a628-45a8-ea7d-86d8f4a08470"
      },
      "outputs": [
        {
          "data": {
            "text/plain": [
              "season\n",
              "3    188\n",
              "2    182\n",
              "1    179\n",
              "4    176\n",
              "Name: cnt, dtype: int64"
            ]
          },
          "execution_count": 67,
          "metadata": {},
          "output_type": "execute_result"
        }
      ],
      "source": [
        "day_df.groupby(by=\"season\").cnt.nunique().sort_values(ascending=False)"
      ]
    },
    {
      "cell_type": "code",
      "execution_count": 68,
      "metadata": {
        "colab": {
          "base_uri": "https://localhost:8080/"
        },
        "id": "tx-FO853Em07",
        "outputId": "faf126f7-cce5-4711-8d76-37bfe1ec9589"
      },
      "outputs": [
        {
          "data": {
            "text/plain": [
              "season\n",
              "3    760\n",
              "2    721\n",
              "4    690\n",
              "1    482\n",
              "Name: cnt, dtype: int64"
            ]
          },
          "execution_count": 68,
          "metadata": {},
          "output_type": "execute_result"
        }
      ],
      "source": [
        "hour_df.groupby(by=\"season\").cnt.nunique().sort_values(ascending=False)"
      ]
    },
    {
      "cell_type": "code",
      "execution_count": 69,
      "metadata": {
        "colab": {
          "base_uri": "https://localhost:8080/"
        },
        "id": "arGxNrHVE4C_",
        "outputId": "49e29d7f-1575-4894-ccf3-b1789f4446ce"
      },
      "outputs": [
        {
          "data": {
            "text/plain": [
              "weathersit\n",
              "1    451\n",
              "2    243\n",
              "3     21\n",
              "Name: cnt, dtype: int64"
            ]
          },
          "execution_count": 69,
          "metadata": {},
          "output_type": "execute_result"
        }
      ],
      "source": [
        "day_df.groupby(by=\"weathersit\").cnt.nunique().sort_values(ascending=False)"
      ]
    },
    {
      "cell_type": "code",
      "execution_count": 70,
      "metadata": {
        "colab": {
          "base_uri": "https://localhost:8080/"
        },
        "id": "-AJiJO7tFFIq",
        "outputId": "080cfdf7-e1fb-429f-aa18-6cf0c8982652"
      },
      "outputs": [
        {
          "data": {
            "text/plain": [
              "weathersit\n",
              "1    848\n",
              "2    649\n",
              "3    368\n",
              "4      3\n",
              "Name: cnt, dtype: int64"
            ]
          },
          "execution_count": 70,
          "metadata": {},
          "output_type": "execute_result"
        }
      ],
      "source": [
        "hour_df.groupby(by=\"weathersit\").cnt.nunique().sort_values(ascending=False)"
      ]
    },
    {
      "cell_type": "code",
      "execution_count": 71,
      "metadata": {
        "colab": {
          "base_uri": "https://localhost:8080/"
        },
        "id": "jlfk-J2iOiTX",
        "outputId": "28edd9fa-ae28-4cc6-fcb2-1bbc8300ce30"
      },
      "outputs": [
        {
          "data": {
            "text/plain": [
              "weekday\n",
              "0    104\n",
              "1    104\n",
              "2    104\n",
              "5    104\n",
              "3    103\n",
              "4    103\n",
              "6    102\n",
              "Name: cnt, dtype: int64"
            ]
          },
          "execution_count": 71,
          "metadata": {},
          "output_type": "execute_result"
        }
      ],
      "source": [
        "day_df.groupby(by=\"weekday\").cnt.nunique().sort_values(ascending=False)"
      ]
    },
    {
      "cell_type": "markdown",
      "metadata": {
        "id": "dJ_U1UjWKUjC"
      },
      "source": [
        "###Explore jumlah sewa sepeda pada weekdays dan pelanggan casual"
      ]
    },
    {
      "cell_type": "code",
      "execution_count": 72,
      "metadata": {
        "colab": {
          "base_uri": "https://localhost:8080/"
        },
        "id": "-pwdCXCXOsyE",
        "outputId": "50f46c57-3721-4258-f652-3a7a5dfdc619"
      },
      "outputs": [
        {
          "data": {
            "text/plain": [
              "weekday\n",
              "1    54024\n",
              "2    57403\n",
              "3    54757\n",
              "4    59945\n",
              "5    77156\n",
              "Name: casual, dtype: int64"
            ]
          },
          "execution_count": 72,
          "metadata": {},
          "output_type": "execute_result"
        }
      ],
      "source": [
        "day_df[(day_df['workingday'] == 1)].groupby('weekday')['casual'].sum()"
      ]
    },
    {
      "cell_type": "markdown",
      "metadata": {
        "id": "25Uj3wKMKswn"
      },
      "source": [
        "###Eksplor distribusi data untuk tipe data numerik"
      ]
    },
    {
      "cell_type": "code",
      "execution_count": 73,
      "metadata": {
        "colab": {
          "base_uri": "https://localhost:8080/",
          "height": 1000
        },
        "id": "zF_Ll9tFwhVj",
        "outputId": "b2428d74-3ad2-4c9a-f044-bf779baddafc"
      },
      "outputs": [
        {
          "data": {
            "image/png": "[encoded data removed]",
            "text/plain": [
              "<Figure size 800x600 with 1 Axes>"
            ]
          },
          "metadata": {},
          "output_type": "display_data"
        },
        {
          "data": {
            "image/png": "[encoded data removed]",
            "text/plain": [
              "<Figure size 800x600 with 1 Axes>"
            ]
          },
          "metadata": {},
          "output_type": "display_data"
        },
        {
          "data": {
            "image/png": "[encoded data removed]",
            "text/plain": [
              "<Figure size 800x600 with 1 Axes>"
            ]
          },
          "metadata": {},
          "output_type": "display_data"
        },
        {
          "data": {
            "image/png": "[encoded data removed]",
            "text/plain": [
              "<Figure size 800x600 with 1 Axes>"
            ]
          },
          "metadata": {},
          "output_type": "display_data"
        },
        {
          "data": {
            "image/png": "[encoded data removed]",
            "text/plain": [
              "<Figure size 800x600 with 1 Axes>"
            ]
          },
          "metadata": {},
          "output_type": "display_data"
        },
        {
          "data": {
            "image/png": "[encoded data removed]",
            "text/plain": [
              "<Figure size 800x600 with 1 Axes>"
            ]
          },
          "metadata": {},
          "output_type": "display_data"
        },
        {
          "data": {
            "image/png": "[encoded data removed]",
            "text/plain": [
              "<Figure size 800x600 with 1 Axes>"
            ]
          },
          "metadata": {},
          "output_type": "display_data"
        }
      ],
      "source": [
        "numeric_columns = ['temp', 'atemp', 'hum', 'windspeed', 'casual', 'registered', 'cnt']\n",
        "\n",
        "for col in numeric_columns:\n",
        "    plt.figure(figsize=(8, 6))\n",
        "    plt.hist(day_df[col], bins=20)\n",
        "    plt.xlabel('Nilai')\n",
        "    plt.ylabel('Frekuensi')\n",
        "    plt.title(f'Distribusi {col}')\n",
        "    plt.grid(True)\n",
        "    plt.show()\n"
      ]
    },
    {
      "cell_type": "markdown",
      "metadata": {
        "id": "itMLRkfAKzt4"
      },
      "source": [
        "###Eksplor distribusi data untuk tipe data kategorik"
      ]
    },
    {
      "cell_type": "code",
      "execution_count": 74,
      "metadata": {
        "colab": {
          "base_uri": "https://localhost:8080/",
          "height": 1000
        },
        "id": "dAz9NpEBuPFJ",
        "outputId": "01bd2007-260f-4d76-9d0a-c00b32d1b919"
      },
      "outputs": [
        {
          "data": {
            "image/png": "[encoded data removed]",
            "text/plain": [
              "<Figure size 800x600 with 1 Axes>"
            ]
          },
          "metadata": {},
          "output_type": "display_data"
        },
        {
          "data": {
            "image/png": "[encoded data removed]",
            "text/plain": [
              "<Figure size 800x600 with 1 Axes>"
            ]
          },
          "metadata": {},
          "output_type": "display_data"
        },
        {
          "data": {
            "image/png": "[encoded data removed]",
            "text/plain": [
              "<Figure size 800x600 with 1 Axes>"
            ]
          },
          "metadata": {},
          "output_type": "display_data"
        },
        {
          "data": {
            "image/png": "[encoded data removed]",
            "text/plain": [
              "<Figure size 800x600 with 1 Axes>"
            ]
          },
          "metadata": {},
          "output_type": "display_data"
        },
        {
          "data": {
            "image/png": "[encoded data removed]",
            "text/plain": [
              "<Figure size 800x600 with 1 Axes>"
            ]
          },
          "metadata": {},
          "output_type": "display_data"
        },
        {
          "data": {
            "image/png": "[encoded data removed]",
            "text/plain": [
              "<Figure size 800x600 with 1 Axes>"
            ]
          },
          "metadata": {},
          "output_type": "display_data"
        },
        {
          "data": {
            "image/png": "[encoded data removed]",
            "text/plain": [
              "<Figure size 800x600 with 1 Axes>"
            ]
          },
          "metadata": {},
          "output_type": "display_data"
        }
      ],
      "source": [
        "categorical_columns = ['season', 'yr', 'mnth', 'holiday', 'weekday', 'workingday', 'weathersit']\n",
        "\n",
        "for col in categorical_columns:\n",
        "    plt.figure(figsize=(8, 6))\n",
        "    plt.bar(day_df[col].value_counts().index, day_df[col].value_counts().values)\n",
        "    plt.xlabel('Nilai')\n",
        "    plt.ylabel('Jumlah')\n",
        "    plt.title(f'Distribusi {col}')\n",
        "    plt.show()\n"
      ]
    },
    {
      "cell_type": "markdown",
      "metadata": {
        "id": "HTwZwzarKk14"
      },
      "source": [
        "###Eksplor korelasi antar fitur"
      ]
    },
    {
      "cell_type": "code",
      "execution_count": 75,
      "metadata": {
        "colab": {
          "base_uri": "https://localhost:8080/",
          "height": 597
        },
        "id": "e9CQCZjk8DC2",
        "outputId": "f231a262-afae-435a-9847-9da4199ae0e6"
      },
      "outputs": [
        {
          "data": {
            "application/vnd.plotly.v1+json": {
              "config": {
                "plotlyServerURL": "https://plot.ly"
              },
              "data": [
                {
                  "coloraxis": "coloraxis",
                  "hovertemplate": "x: %{x}<br>y: %{y}<br>color: %{z}<extra></extra>",
                  "name": "0",
                  "type": "heatmap",
                  "x": [
                    "instant",
                    "dteday",
                    "season",
                    "yr",
                    "mnth",
                    "holiday",
                    "weekday",
                    "workingday",
                    "weathersit",
                    "temp",
                    "atemp",
                    "hum",
                    "windspeed",
                    "casual",
                    "registered",
                    "cnt"
                  ],
                  "xaxis": "x",
                  "y": [
                    "instant",
                    "dteday",
                    "season",
                    "yr",
                    "mnth",
                    "holiday",
                    "weekday",
                    "workingday",
                    "weathersit",
                    "temp",
                    "atemp",
                    "hum",
                    "windspeed",
                    "casual",
                    "registered",
                    "cnt"
                  ],
                  "yaxis": "y",
                  "z": [
                    [
                      1,
                      1.0000000000000002,
                      0.41222417881222106,
                      0.8660254037844386,
                      0.49670188922126657,
                      0.016144632414758376,
                      -0.000016179135734028904,
                      -0.004336536931477851,
                      -0.02147720531029272,
                      0.15058030193191735,
                      0.1526382378831442,
                      0.016374713216624308,
                      -0.11261955555790659,
                      0.27525521247218826,
                      0.659622867564585,
                      0.6288302722083062
                    ],
                    [
                      1.0000000000000002,
                      1,
                      0.41222417881222106,
                      0.8660254037844387,
                      0.4967018892212667,
                      0.01614463241475837,
                      -0.000016179135734027278,
                      -0.004336536931477849,
                      -0.021477205310292718,
                      0.15058030193191868,
                      0.1526382378831434,
                      0.01637471321662398,
                      -0.1126195555579061,
                      0.27525521247218887,
                      0.6596228675645853,
                      0.6288302722083058
                    ],
                    [
                      0.41222417881222106,
                      0.41222417881222106,
                      1,
                      -0.0018443425624099271,
                      0.8314401142104252,
                      -0.01053665873599923,
                      -0.0030798813391720477,
                      0.012484963237440971,
                      0.019211028056670312,
                      0.3343148563990942,
                      0.3428756127075339,
                      0.2054447645397416,
                      -0.22904633734684485,
                      0.21039916455044252,
                      0.41162305142951494,
                      0.40610037079863526
                    ],
                    [
                      0.8660254037844386,
                      0.8660254037844387,
                      -0.0018443425624099271,
                      1,
                      -0.0017924338411962346,
                      0.007954310803060295,
                      -0.005460765185946364,
                      -0.0020126211935202138,
                      -0.04872654120020068,
                      0.04760357191602173,
                      0.046106148538422924,
                      -0.11065104471777891,
                      -0.011817059907782052,
                      0.24854566400672742,
                      0.5942481679351358,
                      0.5667097078680867
                    ],
                    [
                      0.49670188922126657,
                      0.4967018892212667,
                      0.8314401142104252,
                      -0.0017924338411962346,
                      1,
                      0.01919089525339548,
                      0.009509312860349974,
                      -0.005900951270197498,
                      0.04352809839245861,
                      0.22020533515337273,
                      0.2274586297415553,
                      0.22220369068898285,
                      -0.20750175158464143,
                      0.12300588926882507,
                      0.2934878299255224,
                      0.27997711221927024
                    ],
                    [
                      0.016144632414758376,
                      0.01614463241475837,
                      -0.01053665873599923,
                      0.007954310803060295,
                      0.01919089525339548,
                      1,
                      -0.10196026886035356,
                      -0.2530226996846281,
                      -0.03462684136900051,
                      -0.028555534981074403,
                      -0.032506692300223856,
                      -0.01593747850652252,
                      0.00629150654378877,
                      0.054274203475103505,
                      -0.10874486338121468,
                      -0.068347715892484
                    ],
                    [
                      -0.000016179135734028904,
                      -0.000016179135734027278,
                      -0.0030798813391720477,
                      -0.005460765185946364,
                      0.009509312860349974,
                      -0.10196026886035356,
                      1,
                      0.0357896735897842,
                      0.031087469411441058,
                      -0.0001699623848035753,
                      -0.007537131822513728,
                      -0.05223210040137859,
                      0.014282124142083541,
                      0.05992263750227411,
                      0.05736744403680416,
                      0.06744341241063077
                    ],
                    [
                      -0.004336536931477851,
                      -0.004336536931477849,
                      0.012484963237440971,
                      -0.0020126211935202138,
                      -0.005900951270197498,
                      -0.2530226996846281,
                      0.0357896735897842,
                      1,
                      0.061200430008790545,
                      0.05265981017710374,
                      0.05218227505959599,
                      0.024327045787561587,
                      -0.018796486567174007,
                      -0.5180441913348242,
                      0.3039071170459174,
                      0.06115606306052114
                    ],
                    [
                      -0.02147720531029272,
                      -0.021477205310292718,
                      0.019211028056670312,
                      -0.04872654120020068,
                      0.04352809839245861,
                      -0.03462684136900051,
                      0.031087469411441058,
                      0.061200430008790545,
                      1,
                      -0.12060223649971505,
                      -0.1215833542032326,
                      0.5910445992972735,
                      0.03951105859346716,
                      -0.2473529953302609,
                      -0.2603877095630741,
                      -0.2973912388346634
                    ],
                    [
                      0.15058030193191735,
                      0.15058030193191868,
                      0.3343148563990942,
                      0.04760357191602173,
                      0.22020533515337273,
                      -0.028555534981074403,
                      -0.0001699623848035753,
                      0.05265981017710374,
                      -0.12060223649971505,
                      1,
                      0.9917015532294647,
                      0.12696293902718886,
                      -0.15794412041209957,
                      0.5432846616821875,
                      0.5400119661617868,
                      0.6274940090334914
                    ],
                    [
                      0.1526382378831442,
                      0.1526382378831434,
                      0.3428756127075339,
                      0.046106148538422924,
                      0.2274586297415553,
                      -0.032506692300223856,
                      -0.007537131822513728,
                      0.05218227505959599,
                      -0.1215833542032326,
                      0.9917015532294647,
                      1,
                      0.13998805994655997,
                      -0.18364296669082888,
                      0.5438636902622062,
                      0.5441917576380151,
                      0.6310656998491828
                    ],
                    [
                      0.016374713216624308,
                      0.01637471321662398,
                      0.2054447645397416,
                      -0.11065104471777891,
                      0.22220369068898285,
                      -0.01593747850652252,
                      -0.05223210040137859,
                      0.024327045787561587,
                      0.5910445992972735,
                      0.12696293902718886,
                      0.13998805994655997,
                      1,
                      -0.24848909864371393,
                      -0.07700788276308992,
                      -0.09108860395542409,
                      -0.1006585621371548
                    ],
                    [
                      -0.11261955555790659,
                      -0.1126195555579061,
                      -0.22904633734684485,
                      -0.011817059907782052,
                      -0.20750175158464143,
                      0.00629150654378877,
                      0.014282124142083541,
                      -0.018796486567174007,
                      0.03951105859346716,
                      -0.15794412041209957,
                      -0.18364296669082888,
                      -0.24848909864371393,
                      1,
                      -0.16761334930380709,
                      -0.21744898143250424,
                      -0.23454499742167056
                    ],
                    [
                      0.27525521247218826,
                      0.27525521247218887,
                      0.21039916455044252,
                      0.24854566400672742,
                      0.12300588926882507,
                      0.054274203475103505,
                      0.05992263750227411,
                      -0.5180441913348242,
                      -0.2473529953302609,
                      0.5432846616821875,
                      0.5438636902622062,
                      -0.07700788276308992,
                      -0.16761334930380709,
                      1,
                      0.3952824508604645,
                      0.6728044333386828
                    ],
                    [
                      0.659622867564585,
                      0.6596228675645853,
                      0.41162305142951494,
                      0.5942481679351358,
                      0.2934878299255224,
                      -0.10874486338121468,
                      0.05736744403680416,
                      0.3039071170459174,
                      -0.2603877095630741,
                      0.5400119661617868,
                      0.5441917576380151,
                      -0.09108860395542409,
                      -0.21744898143250424,
                      0.3952824508604645,
                      1,
                      0.9455169158090359
                    ],
                    [
                      0.6288302722083062,
                      0.6288302722083058,
                      0.40610037079863526,
                      0.5667097078680867,
                      0.27997711221927024,
                      -0.068347715892484,
                      0.06744341241063077,
                      0.06115606306052114,
                      -0.2973912388346634,
                      0.6274940090334914,
                      0.6310656998491828,
                      -0.1006585621371548,
                      -0.23454499742167056,
                      0.6728044333386828,
                      0.9455169158090359,
                      1
                    ]
                  ]
                }
              ],
              "layout": {
                "coloraxis": {
                  "colorscale": [
                    [
                      0,
                      "#0d0887"
                    ],
                    [
                      0.1111111111111111,
                      "#46039f"
                    ],
                    [
                      0.2222222222222222,
                      "#7201a8"
                    ],
                    [
                      0.3333333333333333,
                      "#9c179e"
                    ],
                    [
                      0.4444444444444444,
                      "#bd3786"
                    ],
                    [
                      0.5555555555555556,
                      "#d8576b"
                    ],
                    [
                      0.6666666666666666,
                      "#ed7953"
                    ],
                    [
                      0.7777777777777778,
                      "#fb9f3a"
                    ],
                    [
                      0.8888888888888888,
                      "#fdca26"
                    ],
                    [
                      1,
                      "#f0f921"
                    ]
                  ]
                },
                "margin": {
                  "t": 60
                },
                "template": {
                  "data": {
                    "bar": [
                      {
                        "error_x": {
                          "color": "#2a3f5f"
                        },
                        "error_y": {
                          "color": "#2a3f5f"
                        },
                        "marker": {
                          "line": {
                            "color": "#E5ECF6",
                            "width": 0.5
                          },
                          "pattern": {
                            "fillmode": "overlay",
                            "size": 10,
                            "solidity": 0.2
                          }
                        },
                        "type": "bar"
                      }
                    ],
                    "barpolar": [
                      {
                        "marker": {
                          "line": {
                            "color": "#E5ECF6",
                            "width": 0.5
                          },
                          "pattern": {
                            "fillmode": "overlay",
                            "size": 10,
                            "solidity": 0.2
                          }
                        },
                        "type": "barpolar"
                      }
                    ],
                    "carpet": [
                      {
                        "aaxis": {
                          "endlinecolor": "#2a3f5f",
                          "gridcolor": "white",
                          "linecolor": "white",
                          "minorgridcolor": "white",
                          "startlinecolor": "#2a3f5f"
                        },
                        "baxis": {
                          "endlinecolor": "#2a3f5f",
                          "gridcolor": "white",
                          "linecolor": "white",
                          "minorgridcolor": "white",
                          "startlinecolor": "#2a3f5f"
                        },
                        "type": "carpet"
                      }
                    ],
                    "choropleth": [
                      {
                        "colorbar": {
                          "outlinewidth": 0,
                          "ticks": ""
                        },
                        "type": "choropleth"
                      }
                    ],
                    "contour": [
                      {
                        "colorbar": {
                          "outlinewidth": 0,
                          "ticks": ""
                        },
                        "colorscale": [
                          [
                            0,
                            "#0d0887"
                          ],
                          [
                            0.1111111111111111,
                            "#46039f"
                          ],
                          [
                            0.2222222222222222,
                            "#7201a8"
                          ],
                          [
                            0.3333333333333333,
                            "#9c179e"
                          ],
                          [
                            0.4444444444444444,
                            "#bd3786"
                          ],
                          [
                            0.5555555555555556,
                            "#d8576b"
                          ],
                          [
                            0.6666666666666666,
                            "#ed7953"
                          ],
                          [
                            0.7777777777777778,
                            "#fb9f3a"
                          ],
                          [
                            0.8888888888888888,
                            "#fdca26"
                          ],
                          [
                            1,
                            "#f0f921"
                          ]
                        ],
                        "type": "contour"
                      }
                    ],
                    "contourcarpet": [
                      {
                        "colorbar": {
                          "outlinewidth": 0,
                          "ticks": ""
                        },
                        "type": "contourcarpet"
                      }
                    ],
                    "heatmap": [
                      {
                        "colorbar": {
                          "outlinewidth": 0,
                          "ticks": ""
                        },
                        "colorscale": [
                          [
                            0,
                            "#0d0887"
                          ],
                          [
                            0.1111111111111111,
                            "#46039f"
                          ],
                          [
                            0.2222222222222222,
                            "#7201a8"
                          ],
                          [
                            0.3333333333333333,
                            "#9c179e"
                          ],
                          [
                            0.4444444444444444,
                            "#bd3786"
                          ],
                          [
                            0.5555555555555556,
                            "#d8576b"
                          ],
                          [
                            0.6666666666666666,
                            "#ed7953"
                          ],
                          [
                            0.7777777777777778,
                            "#fb9f3a"
                          ],
                          [
                            0.8888888888888888,
                            "#fdca26"
                          ],
                          [
                            1,
                            "#f0f921"
                          ]
                        ],
                        "type": "heatmap"
                      }
                    ],
                    "heatmapgl": [
                      {
                        "colorbar": {
                          "outlinewidth": 0,
                          "ticks": ""
                        },
                        "colorscale": [
                          [
                            0,
                            "#0d0887"
                          ],
                          [
                            0.1111111111111111,
                            "#46039f"
                          ],
                          [
                            0.2222222222222222,
                            "#7201a8"
                          ],
                          [
                            0.3333333333333333,
                            "#9c179e"
                          ],
                          [
                            0.4444444444444444,
                            "#bd3786"
                          ],
                          [
                            0.5555555555555556,
                            "#d8576b"
                          ],
                          [
                            0.6666666666666666,
                            "#ed7953"
                          ],
                          [
                            0.7777777777777778,
                            "#fb9f3a"
                          ],
                          [
                            0.8888888888888888,
                            "#fdca26"
                          ],
                          [
                            1,
                            "#f0f921"
                          ]
                        ],
                        "type": "heatmapgl"
                      }
                    ],
                    "histogram": [
                      {
                        "marker": {
                          "pattern": {
                            "fillmode": "overlay",
                            "size": 10,
                            "solidity": 0.2
                          }
                        },
                        "type": "histogram"
                      }
                    ],
                    "histogram2d": [
                      {
                        "colorbar": {
                          "outlinewidth": 0,
                          "ticks": ""
                        },
                        "colorscale": [
                          [
                            0,
                            "#0d0887"
                          ],
                          [
                            0.1111111111111111,
                            "#46039f"
                          ],
                          [
                            0.2222222222222222,
                            "#7201a8"
                          ],
                          [
                            0.3333333333333333,
                            "#9c179e"
                          ],
                          [
                            0.4444444444444444,
                            "#bd3786"
                          ],
                          [
                            0.5555555555555556,
                            "#d8576b"
                          ],
                          [
                            0.6666666666666666,
                            "#ed7953"
                          ],
                          [
                            0.7777777777777778,
                            "#fb9f3a"
                          ],
                          [
                            0.8888888888888888,
                            "#fdca26"
                          ],
                          [
                            1,
                            "#f0f921"
                          ]
                        ],
                        "type": "histogram2d"
                      }
                    ],
                    "histogram2dcontour": [
                      {
                        "colorbar": {
                          "outlinewidth": 0,
                          "ticks": ""
                        },
                        "colorscale": [
                          [
                            0,
                            "#0d0887"
                          ],
                          [
                            0.1111111111111111,
                            "#46039f"
                          ],
                          [
                            0.2222222222222222,
                            "#7201a8"
                          ],
                          [
                            0.3333333333333333,
                            "#9c179e"
                          ],
                          [
                            0.4444444444444444,
                            "#bd3786"
                          ],
                          [
                            0.5555555555555556,
                            "#d8576b"
                          ],
                          [
                            0.6666666666666666,
                            "#ed7953"
                          ],
                          [
                            0.7777777777777778,
                            "#fb9f3a"
                          ],
                          [
                            0.8888888888888888,
                            "#fdca26"
                          ],
                          [
                            1,
                            "#f0f921"
                          ]
                        ],
                        "type": "histogram2dcontour"
                      }
                    ],
                    "mesh3d": [
                      {
                        "colorbar": {
                          "outlinewidth": 0,
                          "ticks": ""
                        },
                        "type": "mesh3d"
                      }
                    ],
                    "parcoords": [
                      {
                        "line": {
                          "colorbar": {
                            "outlinewidth": 0,
                            "ticks": ""
                          }
                        },
                        "type": "parcoords"
                      }
                    ],
                    "pie": [
                      {
                        "automargin": true,
                        "type": "pie"
                      }
                    ],
                    "scatter": [
                      {
                        "fillpattern": {
                          "fillmode": "overlay",
                          "size": 10,
                          "solidity": 0.2
                        },
                        "type": "scatter"
                      }
                    ],
                    "scatter3d": [
                      {
                        "line": {
                          "colorbar": {
                            "outlinewidth": 0,
                            "ticks": ""
                          }
                        },
                        "marker": {
                          "colorbar": {
                            "outlinewidth": 0,
                            "ticks": ""
                          }
                        },
                        "type": "scatter3d"
                      }
                    ],
                    "scattercarpet": [
                      {
                        "marker": {
                          "colorbar": {
                            "outlinewidth": 0,
                            "ticks": ""
                          }
                        },
                        "type": "scattercarpet"
                      }
                    ],
                    "scattergeo": [
                      {
                        "marker": {
                          "colorbar": {
                            "outlinewidth": 0,
                            "ticks": ""
                          }
                        },
                        "type": "scattergeo"
                      }
                    ],
                    "scattergl": [
                      {
                        "marker": {
                          "colorbar": {
                            "outlinewidth": 0,
                            "ticks": ""
                          }
                        },
                        "type": "scattergl"
                      }
                    ],
                    "scattermapbox": [
                      {
                        "marker": {
                          "colorbar": {
                            "outlinewidth": 0,
                            "ticks": ""
                          }
                        },
                        "type": "scattermapbox"
                      }
                    ],
                    "scatterpolar": [
                      {
                        "marker": {
                          "colorbar": {
                            "outlinewidth": 0,
                            "ticks": ""
                          }
                        },
                        "type": "scatterpolar"
                      }
                    ],
                    "scatterpolargl": [
                      {
                        "marker": {
                          "colorbar": {
                            "outlinewidth": 0,
                            "ticks": ""
                          }
                        },
                        "type": "scatterpolargl"
                      }
                    ],
                    "scatterternary": [
                      {
                        "marker": {
                          "colorbar": {
                            "outlinewidth": 0,
                            "ticks": ""
                          }
                        },
                        "type": "scatterternary"
                      }
                    ],
                    "surface": [
                      {
                        "colorbar": {
                          "outlinewidth": 0,
                          "ticks": ""
                        },
                        "colorscale": [
                          [
                            0,
                            "#0d0887"
                          ],
                          [
                            0.1111111111111111,
                            "#46039f"
                          ],
                          [
                            0.2222222222222222,
                            "#7201a8"
                          ],
                          [
                            0.3333333333333333,
                            "#9c179e"
                          ],
                          [
                            0.4444444444444444,
                            "#bd3786"
                          ],
                          [
                            0.5555555555555556,
                            "#d8576b"
                          ],
                          [
                            0.6666666666666666,
                            "#ed7953"
                          ],
                          [
                            0.7777777777777778,
                            "#fb9f3a"
                          ],
                          [
                            0.8888888888888888,
                            "#fdca26"
                          ],
                          [
                            1,
                            "#f0f921"
                          ]
                        ],
                        "type": "surface"
                      }
                    ],
                    "table": [
                      {
                        "cells": {
                          "fill": {
                            "color": "#EBF0F8"
                          },
                          "line": {
                            "color": "white"
                          }
                        },
                        "header": {
                          "fill": {
                            "color": "#C8D4E3"
                          },
                          "line": {
                            "color": "white"
                          }
                        },
                        "type": "table"
                      }
                    ]
                  },
                  "layout": {
                    "annotationdefaults": {
                      "arrowcolor": "#2a3f5f",
                      "arrowhead": 0,
                      "arrowwidth": 1
                    },
                    "autotypenumbers": "strict",
                    "coloraxis": {
                      "colorbar": {
                        "outlinewidth": 0,
                        "ticks": ""
                      }
                    },
                    "colorscale": {
                      "diverging": [
                        [
                          0,
                          "#8e0152"
                        ],
                        [
                          0.1,
                          "#c51b7d"
                        ],
                        [
                          0.2,
                          "#de77ae"
                        ],
                        [
                          0.3,
                          "#f1b6da"
                        ],
                        [
                          0.4,
                          "#fde0ef"
                        ],
                        [
                          0.5,
                          "#f7f7f7"
                        ],
                        [
                          0.6,
                          "#e6f5d0"
                        ],
                        [
                          0.7,
                          "#b8e186"
                        ],
                        [
                          0.8,
                          "#7fbc41"
                        ],
                        [
                          0.9,
                          "#4d9221"
                        ],
                        [
                          1,
                          "#276419"
                        ]
                      ],
                      "sequential": [
                        [
                          0,
                          "#0d0887"
                        ],
                        [
                          0.1111111111111111,
                          "#46039f"
                        ],
                        [
                          0.2222222222222222,
                          "#7201a8"
                        ],
                        [
                          0.3333333333333333,
                          "#9c179e"
                        ],
                        [
                          0.4444444444444444,
                          "#bd3786"
                        ],
                        [
                          0.5555555555555556,
                          "#d8576b"
                        ],
                        [
                          0.6666666666666666,
                          "#ed7953"
                        ],
                        [
                          0.7777777777777778,
                          "#fb9f3a"
                        ],
                        [
                          0.8888888888888888,
                          "#fdca26"
                        ],
                        [
                          1,
                          "#f0f921"
                        ]
                      ],
                      "sequentialminus": [
                        [
                          0,
                          "#0d0887"
                        ],
                        [
                          0.1111111111111111,
                          "#46039f"
                        ],
                        [
                          0.2222222222222222,
                          "#7201a8"
                        ],
                        [
                          0.3333333333333333,
                          "#9c179e"
                        ],
                        [
                          0.4444444444444444,
                          "#bd3786"
                        ],
                        [
                          0.5555555555555556,
                          "#d8576b"
                        ],
                        [
                          0.6666666666666666,
                          "#ed7953"
                        ],
                        [
                          0.7777777777777778,
                          "#fb9f3a"
                        ],
                        [
                          0.8888888888888888,
                          "#fdca26"
                        ],
                        [
                          1,
                          "#f0f921"
                        ]
                      ]
                    },
                    "colorway": [
                      "#636efa",
                      "#EF553B",
                      "#00cc96",
                      "#ab63fa",
                      "#FFA15A",
                      "#19d3f3",
                      "#FF6692",
                      "#B6E880",
                      "#FF97FF",
                      "#FECB52"
                    ],
                    "font": {
                      "color": "#2a3f5f"
                    },
                    "geo": {
                      "bgcolor": "white",
                      "lakecolor": "white",
                      "landcolor": "#E5ECF6",
                      "showlakes": true,
                      "showland": true,
                      "subunitcolor": "white"
                    },
                    "hoverlabel": {
                      "align": "left"
                    },
                    "hovermode": "closest",
                    "mapbox": {
                      "style": "light"
                    },
                    "paper_bgcolor": "white",
                    "plot_bgcolor": "#E5ECF6",
                    "polar": {
                      "angularaxis": {
                        "gridcolor": "white",
                        "linecolor": "white",
                        "ticks": ""
                      },
                      "bgcolor": "#E5ECF6",
                      "radialaxis": {
                        "gridcolor": "white",
                        "linecolor": "white",
                        "ticks": ""
                      }
                    },
                    "scene": {
                      "xaxis": {
                        "backgroundcolor": "#E5ECF6",
                        "gridcolor": "white",
                        "gridwidth": 2,
                        "linecolor": "white",
                        "showbackground": true,
                        "ticks": "",
                        "zerolinecolor": "white"
                      },
                      "yaxis": {
                        "backgroundcolor": "#E5ECF6",
                        "gridcolor": "white",
                        "gridwidth": 2,
                        "linecolor": "white",
                        "showbackground": true,
                        "ticks": "",
                        "zerolinecolor": "white"
                      },
                      "zaxis": {
                        "backgroundcolor": "#E5ECF6",
                        "gridcolor": "white",
                        "gridwidth": 2,
                        "linecolor": "white",
                        "showbackground": true,
                        "ticks": "",
                        "zerolinecolor": "white"
                      }
                    },
                    "shapedefaults": {
                      "line": {
                        "color": "#2a3f5f"
                      }
                    },
                    "ternary": {
                      "aaxis": {
                        "gridcolor": "white",
                        "linecolor": "white",
                        "ticks": ""
                      },
                      "baxis": {
                        "gridcolor": "white",
                        "linecolor": "white",
                        "ticks": ""
                      },
                      "bgcolor": "#E5ECF6",
                      "caxis": {
                        "gridcolor": "white",
                        "linecolor": "white",
                        "ticks": ""
                      }
                    },
                    "title": {
                      "x": 0.05
                    },
                    "xaxis": {
                      "automargin": true,
                      "gridcolor": "white",
                      "linecolor": "white",
                      "ticks": "",
                      "title": {
                        "standoff": 15
                      },
                      "zerolinecolor": "white",
                      "zerolinewidth": 2
                    },
                    "yaxis": {
                      "automargin": true,
                      "gridcolor": "white",
                      "linecolor": "white",
                      "ticks": "",
                      "title": {
                        "standoff": 15
                      },
                      "zerolinecolor": "white",
                      "zerolinewidth": 2
                    }
                  }
                },
                "title": {
                  "text": "Korelasi antara Variabel Numerik Dataframe Day"
                },
                "xaxis": {
                  "anchor": "y",
                  "constrain": "domain",
                  "domain": [
                    0,
                    1
                  ],
                  "scaleanchor": "y"
                },
                "yaxis": {
                  "anchor": "x",
                  "autorange": "reversed",
                  "constrain": "domain",
                  "domain": [
                    0,
                    1
                  ]
                }
              }
            }
          },
          "metadata": {},
          "output_type": "display_data"
        }
      ],
      "source": [
        "correlation_matrix_day = day_df.corr()\n",
        "fig = px.imshow(correlation_matrix_day)\n",
        "fig.update_layout(title=\"Korelasi antara Variabel Numerik Dataframe Day\")\n",
        "fig.show()"
      ]
    },
    {
      "cell_type": "code",
      "execution_count": 76,
      "metadata": {
        "colab": {
          "base_uri": "https://localhost:8080/",
          "height": 611
        },
        "id": "L89Wmlp-hUB1",
        "outputId": "d9dd8b0d-0fff-44fd-9c72-3b9253ea1bb7"
      },
      "outputs": [
        {
          "data": {
            "application/vnd.plotly.v1+json": {
              "config": {
                "plotlyServerURL": "https://plot.ly"
              },
              "data": [
                {
                  "coloraxis": "coloraxis",
                  "hovertemplate": "x: %{x}<br>y: %{y}<br>color: %{z}<extra></extra>",
                  "name": "0",
                  "type": "heatmap",
                  "x": [
                    "instant",
                    "dteday",
                    "season",
                    "yr",
                    "mnth",
                    "hr",
                    "holiday",
                    "weekday",
                    "workingday",
                    "weathersit",
                    "temp",
                    "atemp",
                    "hum",
                    "windspeed",
                    "casual",
                    "registered",
                    "cnt"
                  ],
                  "xaxis": "x",
                  "y": [
                    "instant",
                    "dteday",
                    "season",
                    "yr",
                    "mnth",
                    "hr",
                    "holiday",
                    "weekday",
                    "workingday",
                    "weathersit",
                    "temp",
                    "atemp",
                    "hum",
                    "windspeed",
                    "casual",
                    "registered",
                    "cnt"
                  ],
                  "yaxis": "y",
                  "z": [
                    [
                      1,
                      0.9999951543403317,
                      0.4040457208710286,
                      0.8660140489946193,
                      0.4891638307722482,
                      -0.004774814643935365,
                      0.014723494213066297,
                      0.0013568200654600693,
                      -0.003415559211918336,
                      -0.01419760329921686,
                      0.13617800734755237,
                      0.1376146101845261,
                      0.009576773993503715,
                      -0.07450453969595212,
                      0.15829540104166423,
                      0.2820457773944356,
                      0.27837869391745607
                    ],
                    [
                      0.9999951543403317,
                      1,
                      0.4044521009854798,
                      0.8656482120636548,
                      0.48980788247577206,
                      -0.006160548620720832,
                      0.014737496774491791,
                      0.0013722335847554856,
                      -0.003365962965393199,
                      -0.014063004357319891,
                      0.13607386936365887,
                      0.1375434169916777,
                      0.010195586995462051,
                      -0.07464481318490981,
                      0.15782118402286655,
                      0.2814502468743986,
                      0.27775285638345626
                    ],
                    [
                      0.4040457208710286,
                      0.4044521009854798,
                      1,
                      -0.010742486207836325,
                      0.8303858922042007,
                      -0.00611690086619728,
                      -0.00958452586919976,
                      -0.002335349725048378,
                      0.01374310174705762,
                      -0.014523552139127328,
                      0.3120252372573941,
                      0.31937981095888285,
                      0.15062474540392665,
                      -0.14977275116521144,
                      0.1202064473500264,
                      0.1742256334023612,
                      0.17805573098267663
                    ],
                    [
                      0.8660140489946193,
                      0.8656482120636548,
                      -0.010742486207836325,
                      1,
                      -0.010472928816713665,
                      -0.0038670049493366387,
                      0.0066916166081595835,
                      -0.004484851244110418,
                      -0.0021960054142605447,
                      -0.019156853236267937,
                      0.04091337951165596,
                      0.03922159459595054,
                      -0.08354642088344329,
                      -0.00873953293344798,
                      0.14277852832924245,
                      0.25368430980716655,
                      0.2504948988596485
                    ],
                    [
                      0.4891638307722482,
                      0.48980788247577206,
                      0.8303858922042007,
                      -0.010472928816713665,
                      1,
                      -0.0057719088298837555,
                      0.01843032523294527,
                      0.010400061080361973,
                      -0.0034769217948592422,
                      0.005399521906108003,
                      0.20169149360986816,
                      0.2080961309174694,
                      0.1644114433757885,
                      -0.13538632320501096,
                      0.06845730074875953,
                      0.12227296677306458,
                      0.12063776021315144
                    ],
                    [
                      -0.004774814643935365,
                      -0.006160548620720832,
                      -0.00611690086619728,
                      -0.0038670049493366387,
                      -0.0057719088298837555,
                      1,
                      0.0004791360364798608,
                      -0.0034977394383284097,
                      0.002284998104143218,
                      -0.020202528398648743,
                      0.13760349386560936,
                      0.13374996473160827,
                      -0.2764978279048565,
                      0.1372515675009426,
                      0.30120173025653485,
                      0.3741407098377635,
                      0.39407149778294204
                    ],
                    [
                      0.014723494213066297,
                      0.014737496774491791,
                      -0.00958452586919976,
                      0.0066916166081595835,
                      0.01843032523294527,
                      0.0004791360364798608,
                      1,
                      -0.10208779083596176,
                      -0.25247136958183775,
                      -0.017036113360590292,
                      -0.027340476921091435,
                      -0.03097273698121888,
                      -0.010588464952625335,
                      0.0039876315751622695,
                      0.03156362837395937,
                      -0.04734542440847335,
                      -0.030927303249110614
                    ],
                    [
                      0.0013568200654600693,
                      0.0013722335847554856,
                      -0.002335349725048378,
                      -0.004484851244110418,
                      0.010400061080361973,
                      -0.0034977394383284097,
                      -0.10208779083596176,
                      1,
                      0.03595507139844422,
                      0.003310739703927733,
                      -0.0017949269841722251,
                      -0.00882094477934529,
                      -0.03715826821855929,
                      0.011501545297833801,
                      0.03272141548201988,
                      0.021577888472997454,
                      0.02689985999083953
                    ],
                    [
                      -0.003415559211918336,
                      -0.003365962965393199,
                      0.01374310174705762,
                      -0.0021960054142605447,
                      -0.0034769217948592422,
                      0.002284998104143218,
                      -0.25247136958183775,
                      0.03595507139844422,
                      1,
                      0.044672223797483236,
                      0.05539031705723657,
                      0.05466723464014179,
                      0.01568751235078407,
                      -0.01182978935650119,
                      -0.3009424860259183,
                      0.13432579113379473,
                      0.030284367747910722
                    ],
                    [
                      -0.01419760329921686,
                      -0.014063004357319891,
                      -0.014523552139127328,
                      -0.019156853236267937,
                      0.005399521906108003,
                      -0.020202528398648743,
                      -0.017036113360590292,
                      0.003310739703927733,
                      0.044672223797483236,
                      1,
                      -0.10263993557969309,
                      -0.10556310792661813,
                      0.4181303287518022,
                      0.02622565248741047,
                      -0.15262788466438984,
                      -0.12096551971789846,
                      -0.14242613813809568
                    ],
                    [
                      0.13617800734755237,
                      0.13607386936365887,
                      0.3120252372573941,
                      0.04091337951165596,
                      0.20169149360986816,
                      0.13760349386560936,
                      -0.027340476921091435,
                      -0.0017949269841722251,
                      0.05539031705723657,
                      -0.10263993557969309,
                      1,
                      0.9876721390396437,
                      -0.06988139105119423,
                      -0.02312526248533279,
                      0.45961564554484974,
                      0.33536084904299557,
                      0.4047722757786578
                    ],
                    [
                      0.1376146101845261,
                      0.1375434169916777,
                      0.31937981095888285,
                      0.03922159459595054,
                      0.2080961309174694,
                      0.13374996473160827,
                      -0.03097273698121888,
                      -0.00882094477934529,
                      0.05466723464014179,
                      -0.10556310792661813,
                      0.9876721390396437,
                      1,
                      -0.05191769599336794,
                      -0.06233604268695706,
                      0.45408006533291106,
                      0.33255863540510233,
                      0.4009293041266357
                    ],
                    [
                      0.009576773993503715,
                      0.010195586995462051,
                      0.15062474540392665,
                      -0.08354642088344329,
                      0.1644114433757885,
                      -0.2764978279048565,
                      -0.010588464952625335,
                      -0.03715826821855929,
                      0.01568751235078407,
                      0.4181303287518022,
                      -0.06988139105119423,
                      -0.05191769599336794,
                      1,
                      -0.2901048950638631,
                      -0.34702809283992725,
                      -0.2739331184919315,
                      -0.32291074082456017
                    ],
                    [
                      -0.07450453969595212,
                      -0.07464481318490981,
                      -0.14977275116521144,
                      -0.00873953293344798,
                      -0.13538632320501096,
                      0.1372515675009426,
                      0.0039876315751622695,
                      0.011501545297833801,
                      -0.01182978935650119,
                      0.02622565248741047,
                      -0.02312526248533279,
                      -0.06233604268695706,
                      -0.2901048950638631,
                      1,
                      0.09028677509691824,
                      0.08232084736312638,
                      0.09323378392612537
                    ],
                    [
                      0.15829540104166423,
                      0.15782118402286655,
                      0.1202064473500264,
                      0.14277852832924245,
                      0.06845730074875953,
                      0.30120173025653485,
                      0.03156362837395937,
                      0.03272141548201988,
                      -0.3009424860259183,
                      -0.15262788466438984,
                      0.45961564554484974,
                      0.45408006533291106,
                      -0.34702809283992725,
                      0.09028677509691824,
                      1,
                      0.5066177004294652,
                      0.6945640779749468
                    ],
                    [
                      0.2820457773944356,
                      0.2814502468743986,
                      0.1742256334023612,
                      0.25368430980716655,
                      0.12227296677306458,
                      0.3741407098377635,
                      -0.04734542440847335,
                      0.021577888472997454,
                      0.13432579113379473,
                      -0.12096551971789846,
                      0.33536084904299557,
                      0.33255863540510233,
                      -0.2739331184919315,
                      0.08232084736312638,
                      0.5066177004294652,
                      1,
                      0.9721507308642957
                    ],
                    [
                      0.27837869391745607,
                      0.27775285638345626,
                      0.17805573098267663,
                      0.2504948988596485,
                      0.12063776021315144,
                      0.39407149778294204,
                      -0.030927303249110614,
                      0.02689985999083953,
                      0.030284367747910722,
                      -0.14242613813809568,
                      0.4047722757786578,
                      0.4009293041266357,
                      -0.32291074082456017,
                      0.09323378392612537,
                      0.6945640779749468,
                      0.9721507308642957,
                      1
                    ]
                  ]
                }
              ],
              "layout": {
                "coloraxis": {
                  "colorscale": [
                    [
                      0,
                      "#0d0887"
                    ],
                    [
                      0.1111111111111111,
                      "#46039f"
                    ],
                    [
                      0.2222222222222222,
                      "#7201a8"
                    ],
                    [
                      0.3333333333333333,
                      "#9c179e"
                    ],
                    [
                      0.4444444444444444,
                      "#bd3786"
                    ],
                    [
                      0.5555555555555556,
                      "#d8576b"
                    ],
                    [
                      0.6666666666666666,
                      "#ed7953"
                    ],
                    [
                      0.7777777777777778,
                      "#fb9f3a"
                    ],
                    [
                      0.8888888888888888,
                      "#fdca26"
                    ],
                    [
                      1,
                      "#f0f921"
                    ]
                  ]
                },
                "margin": {
                  "t": 60
                },
                "template": {
                  "data": {
                    "bar": [
                      {
                        "error_x": {
                          "color": "#2a3f5f"
                        },
                        "error_y": {
                          "color": "#2a3f5f"
                        },
                        "marker": {
                          "line": {
                            "color": "#E5ECF6",
                            "width": 0.5
                          },
                          "pattern": {
                            "fillmode": "overlay",
                            "size": 10,
                            "solidity": 0.2
                          }
                        },
                        "type": "bar"
                      }
                    ],
                    "barpolar": [
                      {
                        "marker": {
                          "line": {
                            "color": "#E5ECF6",
                            "width": 0.5
                          },
                          "pattern": {
                            "fillmode": "overlay",
                            "size": 10,
                            "solidity": 0.2
                          }
                        },
                        "type": "barpolar"
                      }
                    ],
                    "carpet": [
                      {
                        "aaxis": {
                          "endlinecolor": "#2a3f5f",
                          "gridcolor": "white",
                          "linecolor": "white",
                          "minorgridcolor": "white",
                          "startlinecolor": "#2a3f5f"
                        },
                        "baxis": {
                          "endlinecolor": "#2a3f5f",
                          "gridcolor": "white",
                          "linecolor": "white",
                          "minorgridcolor": "white",
                          "startlinecolor": "#2a3f5f"
                        },
                        "type": "carpet"
                      }
                    ],
                    "choropleth": [
                      {
                        "colorbar": {
                          "outlinewidth": 0,
                          "ticks": ""
                        },
                        "type": "choropleth"
                      }
                    ],
                    "contour": [
                      {
                        "colorbar": {
                          "outlinewidth": 0,
                          "ticks": ""
                        },
                        "colorscale": [
                          [
                            0,
                            "#0d0887"
                          ],
                          [
                            0.1111111111111111,
                            "#46039f"
                          ],
                          [
                            0.2222222222222222,
                            "#7201a8"
                          ],
                          [
                            0.3333333333333333,
                            "#9c179e"
                          ],
                          [
                            0.4444444444444444,
                            "#bd3786"
                          ],
                          [
                            0.5555555555555556,
                            "#d8576b"
                          ],
                          [
                            0.6666666666666666,
                            "#ed7953"
                          ],
                          [
                            0.7777777777777778,
                            "#fb9f3a"
                          ],
                          [
                            0.8888888888888888,
                            "#fdca26"
                          ],
                          [
                            1,
                            "#f0f921"
                          ]
                        ],
                        "type": "contour"
                      }
                    ],
                    "contourcarpet": [
                      {
                        "colorbar": {
                          "outlinewidth": 0,
                          "ticks": ""
                        },
                        "type": "contourcarpet"
                      }
                    ],
                    "heatmap": [
                      {
                        "colorbar": {
                          "outlinewidth": 0,
                          "ticks": ""
                        },
                        "colorscale": [
                          [
                            0,
                            "#0d0887"
                          ],
                          [
                            0.1111111111111111,
                            "#46039f"
                          ],
                          [
                            0.2222222222222222,
                            "#7201a8"
                          ],
                          [
                            0.3333333333333333,
                            "#9c179e"
                          ],
                          [
                            0.4444444444444444,
                            "#bd3786"
                          ],
                          [
                            0.5555555555555556,
                            "#d8576b"
                          ],
                          [
                            0.6666666666666666,
                            "#ed7953"
                          ],
                          [
                            0.7777777777777778,
                            "#fb9f3a"
                          ],
                          [
                            0.8888888888888888,
                            "#fdca26"
                          ],
                          [
                            1,
                            "#f0f921"
                          ]
                        ],
                        "type": "heatmap"
                      }
                    ],
                    "heatmapgl": [
                      {
                        "colorbar": {
                          "outlinewidth": 0,
                          "ticks": ""
                        },
                        "colorscale": [
                          [
                            0,
                            "#0d0887"
                          ],
                          [
                            0.1111111111111111,
                            "#46039f"
                          ],
                          [
                            0.2222222222222222,
                            "#7201a8"
                          ],
                          [
                            0.3333333333333333,
                            "#9c179e"
                          ],
                          [
                            0.4444444444444444,
                            "#bd3786"
                          ],
                          [
                            0.5555555555555556,
                            "#d8576b"
                          ],
                          [
                            0.6666666666666666,
                            "#ed7953"
                          ],
                          [
                            0.7777777777777778,
                            "#fb9f3a"
                          ],
                          [
                            0.8888888888888888,
                            "#fdca26"
                          ],
                          [
                            1,
                            "#f0f921"
                          ]
                        ],
                        "type": "heatmapgl"
                      }
                    ],
                    "histogram": [
                      {
                        "marker": {
                          "pattern": {
                            "fillmode": "overlay",
                            "size": 10,
                            "solidity": 0.2
                          }
                        },
                        "type": "histogram"
                      }
                    ],
                    "histogram2d": [
                      {
                        "colorbar": {
                          "outlinewidth": 0,
                          "ticks": ""
                        },
                        "colorscale": [
                          [
                            0,
                            "#0d0887"
                          ],
                          [
                            0.1111111111111111,
                            "#46039f"
                          ],
                          [
                            0.2222222222222222,
                            "#7201a8"
                          ],
                          [
                            0.3333333333333333,
                            "#9c179e"
                          ],
                          [
                            0.4444444444444444,
                            "#bd3786"
                          ],
                          [
                            0.5555555555555556,
                            "#d8576b"
                          ],
                          [
                            0.6666666666666666,
                            "#ed7953"
                          ],
                          [
                            0.7777777777777778,
                            "#fb9f3a"
                          ],
                          [
                            0.8888888888888888,
                            "#fdca26"
                          ],
                          [
                            1,
                            "#f0f921"
                          ]
                        ],
                        "type": "histogram2d"
                      }
                    ],
                    "histogram2dcontour": [
                      {
                        "colorbar": {
                          "outlinewidth": 0,
                          "ticks": ""
                        },
                        "colorscale": [
                          [
                            0,
                            "#0d0887"
                          ],
                          [
                            0.1111111111111111,
                            "#46039f"
                          ],
                          [
                            0.2222222222222222,
                            "#7201a8"
                          ],
                          [
                            0.3333333333333333,
                            "#9c179e"
                          ],
                          [
                            0.4444444444444444,
                            "#bd3786"
                          ],
                          [
                            0.5555555555555556,
                            "#d8576b"
                          ],
                          [
                            0.6666666666666666,
                            "#ed7953"
                          ],
                          [
                            0.7777777777777778,
                            "#fb9f3a"
                          ],
                          [
                            0.8888888888888888,
                            "#fdca26"
                          ],
                          [
                            1,
                            "#f0f921"
                          ]
                        ],
                        "type": "histogram2dcontour"
                      }
                    ],
                    "mesh3d": [
                      {
                        "colorbar": {
                          "outlinewidth": 0,
                          "ticks": ""
                        },
                        "type": "mesh3d"
                      }
                    ],
                    "parcoords": [
                      {
                        "line": {
                          "colorbar": {
                            "outlinewidth": 0,
                            "ticks": ""
                          }
                        },
                        "type": "parcoords"
                      }
                    ],
                    "pie": [
                      {
                        "automargin": true,
                        "type": "pie"
                      }
                    ],
                    "scatter": [
                      {
                        "fillpattern": {
                          "fillmode": "overlay",
                          "size": 10,
                          "solidity": 0.2
                        },
                        "type": "scatter"
                      }
                    ],
                    "scatter3d": [
                      {
                        "line": {
                          "colorbar": {
                            "outlinewidth": 0,
                            "ticks": ""
                          }
                        },
                        "marker": {
                          "colorbar": {
                            "outlinewidth": 0,
                            "ticks": ""
                          }
                        },
                        "type": "scatter3d"
                      }
                    ],
                    "scattercarpet": [
                      {
                        "marker": {
                          "colorbar": {
                            "outlinewidth": 0,
                            "ticks": ""
                          }
                        },
                        "type": "scattercarpet"
                      }
                    ],
                    "scattergeo": [
                      {
                        "marker": {
                          "colorbar": {
                            "outlinewidth": 0,
                            "ticks": ""
                          }
                        },
                        "type": "scattergeo"
                      }
                    ],
                    "scattergl": [
                      {
                        "marker": {
                          "colorbar": {
                            "outlinewidth": 0,
                            "ticks": ""
                          }
                        },
                        "type": "scattergl"
                      }
                    ],
                    "scattermapbox": [
                      {
                        "marker": {
                          "colorbar": {
                            "outlinewidth": 0,
                            "ticks": ""
                          }
                        },
                        "type": "scattermapbox"
                      }
                    ],
                    "scatterpolar": [
                      {
                        "marker": {
                          "colorbar": {
                            "outlinewidth": 0,
                            "ticks": ""
                          }
                        },
                        "type": "scatterpolar"
                      }
                    ],
                    "scatterpolargl": [
                      {
                        "marker": {
                          "colorbar": {
                            "outlinewidth": 0,
                            "ticks": ""
                          }
                        },
                        "type": "scatterpolargl"
                      }
                    ],
                    "scatterternary": [
                      {
                        "marker": {
                          "colorbar": {
                            "outlinewidth": 0,
                            "ticks": ""
                          }
                        },
                        "type": "scatterternary"
                      }
                    ],
                    "surface": [
                      {
                        "colorbar": {
                          "outlinewidth": 0,
                          "ticks": ""
                        },
                        "colorscale": [
                          [
                            0,
                            "#0d0887"
                          ],
                          [
                            0.1111111111111111,
                            "#46039f"
                          ],
                          [
                            0.2222222222222222,
                            "#7201a8"
                          ],
                          [
                            0.3333333333333333,
                            "#9c179e"
                          ],
                          [
                            0.4444444444444444,
                            "#bd3786"
                          ],
                          [
                            0.5555555555555556,
                            "#d8576b"
                          ],
                          [
                            0.6666666666666666,
                            "#ed7953"
                          ],
                          [
                            0.7777777777777778,
                            "#fb9f3a"
                          ],
                          [
                            0.8888888888888888,
                            "#fdca26"
                          ],
                          [
                            1,
                            "#f0f921"
                          ]
                        ],
                        "type": "surface"
                      }
                    ],
                    "table": [
                      {
                        "cells": {
                          "fill": {
                            "color": "#EBF0F8"
                          },
                          "line": {
                            "color": "white"
                          }
                        },
                        "header": {
                          "fill": {
                            "color": "#C8D4E3"
                          },
                          "line": {
                            "color": "white"
                          }
                        },
                        "type": "table"
                      }
                    ]
                  },
                  "layout": {
                    "annotationdefaults": {
                      "arrowcolor": "#2a3f5f",
                      "arrowhead": 0,
                      "arrowwidth": 1
                    },
                    "autotypenumbers": "strict",
                    "coloraxis": {
                      "colorbar": {
                        "outlinewidth": 0,
                        "ticks": ""
                      }
                    },
                    "colorscale": {
                      "diverging": [
                        [
                          0,
                          "#8e0152"
                        ],
                        [
                          0.1,
                          "#c51b7d"
                        ],
                        [
                          0.2,
                          "#de77ae"
                        ],
                        [
                          0.3,
                          "#f1b6da"
                        ],
                        [
                          0.4,
                          "#fde0ef"
                        ],
                        [
                          0.5,
                          "#f7f7f7"
                        ],
                        [
                          0.6,
                          "#e6f5d0"
                        ],
                        [
                          0.7,
                          "#b8e186"
                        ],
                        [
                          0.8,
                          "#7fbc41"
                        ],
                        [
                          0.9,
                          "#4d9221"
                        ],
                        [
                          1,
                          "#276419"
                        ]
                      ],
                      "sequential": [
                        [
                          0,
                          "#0d0887"
                        ],
                        [
                          0.1111111111111111,
                          "#46039f"
                        ],
                        [
                          0.2222222222222222,
                          "#7201a8"
                        ],
                        [
                          0.3333333333333333,
                          "#9c179e"
                        ],
                        [
                          0.4444444444444444,
                          "#bd3786"
                        ],
                        [
                          0.5555555555555556,
                          "#d8576b"
                        ],
                        [
                          0.6666666666666666,
                          "#ed7953"
                        ],
                        [
                          0.7777777777777778,
                          "#fb9f3a"
                        ],
                        [
                          0.8888888888888888,
                          "#fdca26"
                        ],
                        [
                          1,
                          "#f0f921"
                        ]
                      ],
                      "sequentialminus": [
                        [
                          0,
                          "#0d0887"
                        ],
                        [
                          0.1111111111111111,
                          "#46039f"
                        ],
                        [
                          0.2222222222222222,
                          "#7201a8"
                        ],
                        [
                          0.3333333333333333,
                          "#9c179e"
                        ],
                        [
                          0.4444444444444444,
                          "#bd3786"
                        ],
                        [
                          0.5555555555555556,
                          "#d8576b"
                        ],
                        [
                          0.6666666666666666,
                          "#ed7953"
                        ],
                        [
                          0.7777777777777778,
                          "#fb9f3a"
                        ],
                        [
                          0.8888888888888888,
                          "#fdca26"
                        ],
                        [
                          1,
                          "#f0f921"
                        ]
                      ]
                    },
                    "colorway": [
                      "#636efa",
                      "#EF553B",
                      "#00cc96",
                      "#ab63fa",
                      "#FFA15A",
                      "#19d3f3",
                      "#FF6692",
                      "#B6E880",
                      "#FF97FF",
                      "#FECB52"
                    ],
                    "font": {
                      "color": "#2a3f5f"
                    },
                    "geo": {
                      "bgcolor": "white",
                      "lakecolor": "white",
                      "landcolor": "#E5ECF6",
                      "showlakes": true,
                      "showland": true,
                      "subunitcolor": "white"
                    },
                    "hoverlabel": {
                      "align": "left"
                    },
                    "hovermode": "closest",
                    "mapbox": {
                      "style": "light"
                    },
                    "paper_bgcolor": "white",
                    "plot_bgcolor": "#E5ECF6",
                    "polar": {
                      "angularaxis": {
                        "gridcolor": "white",
                        "linecolor": "white",
                        "ticks": ""
                      },
                      "bgcolor": "#E5ECF6",
                      "radialaxis": {
                        "gridcolor": "white",
                        "linecolor": "white",
                        "ticks": ""
                      }
                    },
                    "scene": {
                      "xaxis": {
                        "backgroundcolor": "#E5ECF6",
                        "gridcolor": "white",
                        "gridwidth": 2,
                        "linecolor": "white",
                        "showbackground": true,
                        "ticks": "",
                        "zerolinecolor": "white"
                      },
                      "yaxis": {
                        "backgroundcolor": "#E5ECF6",
                        "gridcolor": "white",
                        "gridwidth": 2,
                        "linecolor": "white",
                        "showbackground": true,
                        "ticks": "",
                        "zerolinecolor": "white"
                      },
                      "zaxis": {
                        "backgroundcolor": "#E5ECF6",
                        "gridcolor": "white",
                        "gridwidth": 2,
                        "linecolor": "white",
                        "showbackground": true,
                        "ticks": "",
                        "zerolinecolor": "white"
                      }
                    },
                    "shapedefaults": {
                      "line": {
                        "color": "#2a3f5f"
                      }
                    },
                    "ternary": {
                      "aaxis": {
                        "gridcolor": "white",
                        "linecolor": "white",
                        "ticks": ""
                      },
                      "baxis": {
                        "gridcolor": "white",
                        "linecolor": "white",
                        "ticks": ""
                      },
                      "bgcolor": "#E5ECF6",
                      "caxis": {
                        "gridcolor": "white",
                        "linecolor": "white",
                        "ticks": ""
                      }
                    },
                    "title": {
                      "x": 0.05
                    },
                    "xaxis": {
                      "automargin": true,
                      "gridcolor": "white",
                      "linecolor": "white",
                      "ticks": "",
                      "title": {
                        "standoff": 15
                      },
                      "zerolinecolor": "white",
                      "zerolinewidth": 2
                    },
                    "yaxis": {
                      "automargin": true,
                      "gridcolor": "white",
                      "linecolor": "white",
                      "ticks": "",
                      "title": {
                        "standoff": 15
                      },
                      "zerolinecolor": "white",
                      "zerolinewidth": 2
                    }
                  }
                },
                "title": {
                  "text": "Korelasi antara Variabel Numerik Dataframe Hour"
                },
                "xaxis": {
                  "anchor": "y",
                  "constrain": "domain",
                  "domain": [
                    0,
                    1
                  ],
                  "scaleanchor": "y"
                },
                "yaxis": {
                  "anchor": "x",
                  "autorange": "reversed",
                  "constrain": "domain",
                  "domain": [
                    0,
                    1
                  ]
                }
              }
            }
          },
          "metadata": {},
          "output_type": "display_data"
        }
      ],
      "source": [
        "correlation_matrix_hour = hour_df.corr()\n",
        "fig = px.imshow(correlation_matrix_hour)\n",
        "fig.update_layout(title=\"Korelasi antara Variabel Numerik Dataframe Hour\")\n",
        "fig.show()"
      ]
    },
    {
      "cell_type": "markdown",
      "metadata": {
        "id": "zsyZjqak8DC2"
      },
      "source": [
        "# Visualization & Explanatory Analysis"
      ]
    },
    {
      "cell_type": "markdown",
      "metadata": {
        "id": "HZxOiQ6n8DC2"
      },
      "source": [
        "### Pertanyaan 1: Bagaimana hubungan antara musim (season) dan jumlah sewa sepeda (cnt) harian? Musim mana yang menjadi *peak-season* sewa sepeda?\n"
      ]
    },
    {
      "cell_type": "code",
      "execution_count": 77,
      "metadata": {
        "colab": {
          "base_uri": "https://localhost:8080/",
          "height": 472
        },
        "id": "1swJUdAD8DC2",
        "outputId": "ef93d213-2062-48db-e706-5d8c4f184c7d"
      },
      "outputs": [
        {
          "data": {
            "image/png": "[encoded data removed]",
            "text/plain": [
              "<Figure size 640x480 with 1 Axes>"
            ]
          },
          "metadata": {},
          "output_type": "display_data"
        }
      ],
      "source": [
        "seasonal_data = day_df.groupby('season')['cnt'].mean()\n",
        "season_names = ['Spring', 'Summer', 'Fall', 'Winter']\n",
        "plt.bar(season_names, seasonal_data)\n",
        "plt.xlabel('Musim')\n",
        "plt.ylabel('Rata-rata Jumlah Sewa Harian')\n",
        "plt.title('Hubungan Musim Terhadap Jumlah Sewa Sepeda Harian')\n",
        "plt.show()"
      ]
    },
    {
      "cell_type": "markdown",
      "metadata": {
        "id": "DgHI7CiU8DC2"
      },
      "source": [
        "### Pertanyaan 2: Bagaimana tren jumlah sewa sepeda (cnt) berdasarkan waktu, seperti bulan (mnth) atau jam (hr)?\n"
      ]
    },
    {
      "cell_type": "code",
      "execution_count": 78,
      "metadata": {
        "colab": {
          "base_uri": "https://localhost:8080/",
          "height": 686
        },
        "id": "Go0lCsvO8DC2",
        "outputId": "d400672d-d658-4962-e8c9-86c351268cc7"
      },
      "outputs": [
        {
          "name": "stderr",
          "output_type": "stream",
          "text": [
            "C:\\Users\\HP\\AppData\\Local\\Temp\\ipykernel_3208\\271286944.py:3: FutureWarning:\n",
            "\n",
            "\n",
            "\n",
            "The `ci` parameter is deprecated. Use `errorbar=None` for the same effect.\n",
            "\n",
            "\n"
          ]
        },
        {
          "data": {
            "image/png": "[encoded data removed]",
            "text/plain": [
              "<Figure size 1200x600 with 1 Axes>"
            ]
          },
          "metadata": {},
          "output_type": "display_data"
        }
      ],
      "source": [
        "sns.set_style(\"whitegrid\")\n",
        "plt.figure(figsize=(12, 6))\n",
        "sns.lineplot(x=\"mnth\", y=\"cnt\", data=day_df, ci=None)\n",
        "plt.title(\"Tren Jumlah Sewa Sepeda Harian Berdasarkan Bulan\")\n",
        "plt.xlabel(\"Bulan\")\n",
        "plt.ylabel(\"Jumlah Sewa Sepeda Harian\")\n",
        "plt.show()"
      ]
    },
    {
      "cell_type": "code",
      "execution_count": 79,
      "metadata": {
        "colab": {
          "base_uri": "https://localhost:8080/",
          "height": 686
        },
        "id": "vpTGAeFQl_5f",
        "outputId": "5269a1ce-6fb3-477a-ac6e-c7d1cb1a2e9c"
      },
      "outputs": [
        {
          "name": "stderr",
          "output_type": "stream",
          "text": [
            "C:\\Users\\HP\\AppData\\Local\\Temp\\ipykernel_3208\\2812394627.py:4: FutureWarning:\n",
            "\n",
            "\n",
            "\n",
            "The `ci` parameter is deprecated. Use `errorbar=None` for the same effect.\n",
            "\n",
            "\n"
          ]
        },
        {
          "data": {
            "image/png": "[encoded data removed]",
            "text/plain": [
              "<Figure size 1200x600 with 1 Axes>"
            ]
          },
          "metadata": {},
          "output_type": "display_data"
        }
      ],
      "source": [
        "sns.set_style(\"whitegrid\")\n",
        "\n",
        "plt.figure(figsize=(12, 6))\n",
        "sns.lineplot(x=\"hr\", y=\"cnt\", data=hour_df, ci=None)\n",
        "\n",
        "plt.title(\"Tren Jumlah Sewa Sepeda Harian Berdasarkan Jam\")\n",
        "plt.xlabel(\"Jam\")\n",
        "plt.ylabel(\"Jumlah Sewa Sepeda Harian\")\n",
        "\n",
        "plt.xticks(range(0, 24))\n",
        "plt.yticks()\n",
        "\n",
        "plt.show()\n",
        "\n",
        "\n",
        "\n"
      ]
    },
    {
      "cell_type": "markdown",
      "metadata": {
        "id": "NiDKLVrBpIBc"
      },
      "source": [
        "### Pertanyaan 3: Bagaimana hubungan cuaca (weathersit) dengan jumlah sewa harian sepeda (cnt)?"
      ]
    },
    {
      "cell_type": "code",
      "execution_count": 80,
      "metadata": {
        "colab": {
          "base_uri": "https://localhost:8080/",
          "height": 564
        },
        "id": "n5QwTx11iaWN",
        "outputId": "6727444c-817e-4e9c-8bfa-30b523039a05"
      },
      "outputs": [
        {
          "data": {
            "image/png": "[encoded data removed]",
            "text/plain": [
              "<Figure size 1000x600 with 1 Axes>"
            ]
          },
          "metadata": {},
          "output_type": "display_data"
        }
      ],
      "source": [
        "plt.figure(figsize=(10, 6))\n",
        "sns.boxplot(x=\"weathersit\", y=\"cnt\", data=day_df)\n",
        "plt.title(\"Hubungan Weathersit Terhadap Jumlah Sewa Sepeda Harian\")\n",
        "plt.xlabel(\"Weathersit\")\n",
        "plt.ylabel(\"Jumlah Sewa Sepeda Harian\")\n",
        "plt.show()"
      ]
    },
    {
      "cell_type": "markdown",
      "metadata": {
        "id": "nT7WgFYyG7RK"
      },
      "source": [
        "### Pertanyaan 4 : Bagaimana cara meningkatkan jumlah sewa sepeda yang digunakan oleh pengguna casual pada weekdays?"
      ]
    },
    {
      "cell_type": "code",
      "execution_count": 81,
      "metadata": {
        "colab": {
          "base_uri": "https://localhost:8080/",
          "height": 607
        },
        "id": "THGzWHukHIw0",
        "outputId": "1cc45abb-62eb-420f-97e5-dfd810bbe16a"
      },
      "outputs": [
        {
          "data": {
            "image/png": "[encoded data removed]",
            "text/plain": [
              "<Figure size 1000x600 with 1 Axes>"
            ]
          },
          "metadata": {},
          "output_type": "display_data"
        }
      ],
      "source": [
        "total_casual_by_weekday = day_df[(day_df['workingday'] == 1)].groupby('weekday')['casual'].sum()\n",
        "\n",
        "labels = ['Senin', 'Selasa', 'Rabu', 'Kamis', 'Jumat']\n",
        "\n",
        "plt.figure(figsize=(10, 6))\n",
        "plt.bar(labels, total_casual_by_weekday)\n",
        "\n",
        "plt.xlabel(\"Hari Kerja\")\n",
        "plt.ylabel(\"Total Jumlah Sewa Sepeda Pelanggan Casual\")\n",
        "plt.title(\"Jumlah Sewa Sepeda Pelanggan Casual pada Hari Kerja\")\n",
        "\n",
        "plt.tight_layout()\n",
        "plt.show()\n"
      ]
    },
    {
      "cell_type": "markdown",
      "metadata": {
        "id": "nY31iscMSUz7"
      },
      "source": [
        "Strategi meningkatkan jumlah sewa sepeda yang digunakan oleh pengguna casual pada weekdays:\n",
        "\n",
        "1. Menawarkan promosi khusus pada hari-hari dengan tingkat penggunaan yang rendah, seperti Senin dan Rabu, seperti diskon eksklusif atau penawaran khusus yang hanya berlaku pada hari kerja.\n",
        "2. Memastikan akses mudah dan kondisi baik dari fasilitas penyewaan sepeda, seperti stasiun atau lokasi penyewaan, terutama selama hari kerja.\n",
        "3. Intensifkan upaya pemasaran pada hari kerja, seperti melalui iklan online yang ditujukan kepada pengguna casual pada hari kerja.\n",
        "4. Implementasikan program loyalitas atau penawaran diskon yang berkelanjutan bagi pengguna casual yang sering menyewa sepeda pada hari kerja."
      ]
    },
    {
      "cell_type": "markdown",
      "metadata": {
        "id": "_WeHlCeX8DC2"
      },
      "source": [
        "# Conclusion"
      ]
    },
    {
      "cell_type": "markdown",
      "metadata": {
        "id": "ZTcyR48Y8DC2"
      },
      "source": [
        "###Bagaimana hubungan antara musim (season) dan jumlah sewa sepeda (cnt) harian? Musim mana yang menjadi peak-season sewa sepeda?\n",
        "Dari visualisasi di atas dapat disimpulkan bahwa, jumlah sewa sepeda paling banyak ada pada musim gugur (Fall) dan jumlah sewa sepeda paling sedikit ada pada musim semi (Spring). Musim yang menjadi peak season yakni musim gugur (Fall)."
      ]
    },
    {
      "cell_type": "markdown",
      "metadata": {
        "id": "HfvPShjEL47O"
      },
      "source": [
        "###Bagaimana tren jumlah sewa sepeda (cnt) berdasarkan waktu, seperti bulan (mnth) atau jam (hr)?\n",
        "Berdasarkan bulan, terjadi peningkatan jumlah peminjaman sepeda pada bulan September dan Juni. Sementara itu, jika dilihat dari jamnya, peminjaman sepeda mengalami peningkatan yang signifikan pada pukul 8 pagi, kemudian mengalami penurunan. Jumlah penyewa mencapai puncaknya pada pukul 17, dan kemudian mengalami penurunan."
      ]
    },
    {
      "cell_type": "markdown",
      "metadata": {
        "id": "xtat8Vf_L6nb"
      },
      "source": [
        "###Bagaimana hubungan cuaca (weathersit) terhadap jumlah sewa sepeda (cnt)?\n",
        "Boxplot menunjukkan bahwa perubahan dalam kondisi cuaca secara jelas mempengaruhi perilaku pengguna sepeda. Secara lebih rinci, observasi menunjukkan bahwa pada kondisi cuaca tertentu, khususnya cuaca cerah atau sebagian berawan (weathersit 1), terdapat perbedaan yang signifikan dalam jumlah sepeda yang disewa dibandingkan weathersit lainnya. Jumlah sewa pada cuaca cerah atau sedikit berawan lebih tinggi dibandingkan dengan weathersit lainnya."
      ]
    },
    {
      "cell_type": "markdown",
      "metadata": {
        "id": "ihjaIatdL8DK"
      },
      "source": [
        "###Bagaimana cara meningkatkan jumlah sewa sepeda yang digunakan oleh pengguna casual pada weekdays?\n",
        "Strategi meningkatkan jumlah sewa sepeda yang digunakan oleh pengguna casual pada weekdays:\n",
        "\n",
        "1. Menawarkan promosi khusus pada hari-hari dengan tingkat penggunaan yang rendah, seperti Senin dan Rabu, seperti diskon eksklusif atau penawaran khusus yang hanya berlaku pada hari kerja.\n",
        "2. Memastikan akses mudah dan kondisi baik dari fasilitas penyewaan sepeda, seperti stasiun atau lokasi penyewaan, terutama selama hari kerja.\n",
        "3. Intensifkan upaya pemasaran pada hari kerja, seperti melalui iklan online yang ditujukan kepada pengguna casual pada hari kerja.\n",
        "4. Implementasikan program loyalitas atau penawaran diskon yang berkelanjutan bagi pengguna casual yang sering menyewa sepeda pada hari kerja.\n",
        "\n",
        "Peminjaman sepeda mencapai puncaknya pada hari Jumat, mengindikasikan peningkatan yang signifikan dalam penggunaan sepeda menjelang akhir pekan."
      ]
    }
  ],
  "metadata": {
    "colab": {
      "provenance": []
    },
    "kernelspec": {
      "display_name": "Python 3",
      "language": "python",
      "name": "python3"
    },
    "language_info": {
      "codemirror_mode": {
        "name": "ipython",
        "version": 3
      },
      "file_extension": ".py",
      "mimetype": "text/x-python",
      "name": "python",
      "nbconvert_exporter": "python",
      "pygments_lexer": "ipython3",
      "version": "3.11.8"
    },
    "orig_nbformat": 4,
    "vscode": {
      "interpreter": {
        "hash": "972b3bf27e332e87b5379f2791f6ef9dfc79c71018c370b0d7423235e20fe4d7"
      }
    }
  },
  "nbformat": 4,
  "nbformat_minor": 0
}
